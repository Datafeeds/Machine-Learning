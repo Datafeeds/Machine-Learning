{
 "cells": [
  {
   "cell_type": "markdown",
   "metadata": {},
   "source": [
    "<h2 id=\"k-means\">K-means</h2>\n",
    "\n",
    "<p><a href=\"http://en.wikipedia.org/wiki/K-means_clustering\">k-means</a> is one of the\n",
    "most commonly used clustering algorithms that clusters the data points into a\n",
    "predefined number of clusters. The MLlib implementation includes a parallelized\n",
    "variant of the <a href=\"http://en.wikipedia.org/wiki/K-means%2B%2B\">k-means++</a> method\n",
    "called <a href=\"http://theory.stanford.edu/~sergei/papers/vldb12-kmpar.pdf\">kmeans||</a>.</p>\n",
    "\n",
    "<p><code>KMeans</code> is implemented as an <code>Estimator</code> and generates a <code>KMeansModel</code> as the base model.</p>\n",
    "\n",
    "<h3 id=\"input-columns\">Input Columns</h3>\n",
    "\n",
    "<table class=\"table\">\n",
    "  <thead>\n",
    "    <tr>\n",
    "      <th align=\"left\">Param name</th>\n",
    "      <th align=\"left\">Type(s)</th>\n",
    "      <th align=\"left\">Default</th>\n",
    "      <th align=\"left\">Description</th>\n",
    "    </tr>\n",
    "  </thead>\n",
    "  <tbody>\n",
    "    <tr>\n",
    "      <td>featuresCol</td>\n",
    "      <td>Vector</td>\n",
    "      <td>\"features\"</td>\n",
    "      <td>Feature vector</td>\n",
    "    </tr>\n",
    "  </tbody>\n",
    "</table>\n",
    "\n",
    "<h3 id=\"output-columns\">Output Columns</h3>\n",
    "\n",
    "<table class=\"table\">\n",
    "  <thead>\n",
    "    <tr>\n",
    "      <th align=\"left\">Param name</th>\n",
    "      <th align=\"left\">Type(s)</th>\n",
    "      <th align=\"left\">Default</th>\n",
    "      <th align=\"left\">Description</th>\n",
    "    </tr>\n",
    "  </thead>\n",
    "  <tbody>\n",
    "    <tr>\n",
    "      <td>predictionCol</td>\n",
    "      <td>Int</td>\n",
    "      <td>\"prediction\"</td>\n",
    "      <td>Predicted cluster center</td>\n",
    "    </tr>\n",
    "  </tbody>\n",
    "</table>"
   ]
  },
  {
   "cell_type": "code",
   "execution_count": 1,
   "metadata": {
    "collapsed": false
   },
   "outputs": [],
   "source": [
    "import findspark\n",
    "findspark.init('Path_to_Spark_Installation')"
   ]
  },
  {
   "cell_type": "markdown",
   "metadata": {},
   "source": [
    "### Clustering Project \n",
    "\n",
    "A large technology firm needs your help, they've been hacked! Luckily their forensic engineers have grabbed valuable data about the hacks, including information like session time,locations, wpm typing speed, etc. The forensic engineer relates to you what she has been able to figure out so far, she has been able to grab meta data of each session that the hackers used to connect to their servers. These are the features of the data:\n",
    "\n",
    "* 'Session_Connection_Time': How long the session lasted in minutes\n",
    "* 'Bytes Transferred': Number of MB transferred during session\n",
    "* 'Kali_Trace_Used': Indicates if the hacker was using Kali Linux\n",
    "* 'Servers_Corrupted': Number of server corrupted during the attack\n",
    "* 'Pages_Corrupted': Number of pages illegally accessed\n",
    "* 'Location': Location attack came from (Probably useless because the hackers used VPNs)\n",
    "* 'WPM_Typing_Speed': Their estimated typing speed based on session logs.\n",
    "\n",
    "\n",
    "The technology firm has 3 potential hackers that perpetrated the attack. Their certain of the first two hackers but they aren't very sure if the third hacker was involved or not. They have requested your help! Can you help figure out whether or not the third suspect had anything to do with the attacks, or was it just two hackers? It's probably not possible to know for sure, but maybe what you've just learned about Clustering can help!\n",
    "\n",
    "**One last key fact, the forensic engineer knows that the hackers trade off attacks. Meaning they should each have roughly the same amount of attacks. For example if there were 100 total attacks, then in a 2 hacker situation each should have about 50 hacks, in a three hacker situation each would have about 33 hacks. The engineer believes this is the key element to solving this, but doesn't know how to distinguish this unlabeled data into groups of hackers.**"
   ]
  },
  {
   "cell_type": "code",
   "execution_count": 2,
   "metadata": {
    "collapsed": false
   },
   "outputs": [
    {
     "name": "stdout",
     "output_type": "stream",
     "text": [
      "root\n",
      " |-- Session_Connection_Time: double (nullable = true)\n",
      " |-- Bytes Transferred: double (nullable = true)\n",
      " |-- Kali_Trace_Used: integer (nullable = true)\n",
      " |-- Servers_Corrupted: double (nullable = true)\n",
      " |-- Pages_Corrupted: double (nullable = true)\n",
      " |-- Location: string (nullable = true)\n",
      " |-- WPM_Typing_Speed: double (nullable = true)\n",
      "\n"
     ]
    }
   ],
   "source": [
    "from pyspark.sql import SparkSession\n",
    "spark = SparkSession.builder.getOrCreate()\n",
    "\n",
    "data = spark.read.csv('hack_data.csv',\n",
    "                      header = True,\n",
    "                     inferSchema = True)\n",
    "data.printSchema()"
   ]
  },
  {
   "cell_type": "code",
   "execution_count": 3,
   "metadata": {
    "collapsed": false
   },
   "outputs": [
    {
     "data": {
      "text/plain": [
       "[Row(Session_Connection_Time=8.0, Bytes Transferred=391.09, Kali_Trace_Used=1, Servers_Corrupted=2.96, Pages_Corrupted=7.0, Location='Slovenia', WPM_Typing_Speed=72.37)]"
      ]
     },
     "execution_count": 3,
     "metadata": {},
     "output_type": "execute_result"
    }
   ],
   "source": [
    "data.head(1)"
   ]
  },
  {
   "cell_type": "markdown",
   "metadata": {},
   "source": [
    "#### Format the Data"
   ]
  },
  {
   "cell_type": "code",
   "execution_count": 4,
   "metadata": {
    "collapsed": false
   },
   "outputs": [
    {
     "data": {
      "text/plain": [
       "['Session_Connection_Time',\n",
       " 'Bytes Transferred',\n",
       " 'Kali_Trace_Used',\n",
       " 'Servers_Corrupted',\n",
       " 'Pages_Corrupted',\n",
       " 'Location',\n",
       " 'WPM_Typing_Speed']"
      ]
     },
     "execution_count": 4,
     "metadata": {},
     "output_type": "execute_result"
    }
   ],
   "source": [
    "data.columns"
   ]
  },
  {
   "cell_type": "code",
   "execution_count": 5,
   "metadata": {
    "collapsed": false
   },
   "outputs": [],
   "source": [
    "from pyspark.ml.feature import VectorAssembler\n",
    "\n",
    "assembler = VectorAssembler(inputCols = ['Session_Connection_Time', 'Bytes Transferred', 'Kali_Trace_Used',\n",
    "                                         'Servers_Corrupted', 'Pages_Corrupted', 'WPM_Typing_Speed'],\n",
    "                           outputCol = 'features')\n",
    "final_data = assembler.transform(data)"
   ]
  },
  {
   "cell_type": "markdown",
   "metadata": {},
   "source": [
    "#### Scale the Data"
   ]
  },
  {
   "cell_type": "code",
   "execution_count": 6,
   "metadata": {
    "collapsed": false
   },
   "outputs": [],
   "source": [
    "from pyspark.ml.feature import StandardScaler\n",
    "\n",
    "scaler = StandardScaler(inputCol = 'features', \n",
    "                        outputCol = 'scaledFeatures', \n",
    "                        withStd = True, \n",
    "                        withMean = True)\n",
    "scaled_data = scaler.fit(final_data).transform(final_data)"
   ]
  },
  {
   "cell_type": "markdown",
   "metadata": {},
   "source": [
    "#### Train the Model and Evaluate"
   ]
  },
  {
   "cell_type": "code",
   "execution_count": 7,
   "metadata": {
    "collapsed": true
   },
   "outputs": [],
   "source": [
    "# Let's check with K = 2 and K =3. Since that is what we suspect\n",
    "\n",
    "from pyspark.ml.clustering import KMeans\n",
    "\n",
    "kmeans_2 = KMeans(k = 2, featuresCol = 'scaledFeatures')\n",
    "kmeans_3 = KMeans(k = 3, featuresCol = 'scaledFeatures')\n",
    "\n",
    "# Fitting the KMeans model with the data\n",
    "model_2 = kmeans_2.fit(scaled_data)\n",
    "model_3 = kmeans_3.fit(scaled_data)"
   ]
  },
  {
   "cell_type": "code",
   "execution_count": 8,
   "metadata": {
    "collapsed": false
   },
   "outputs": [
    {
     "name": "stdout",
     "output_type": "stream",
     "text": [
      "WSSE with K = 2\n",
      "601.7707512676687\n",
      "------------------------------\n",
      "WSSE with K = 3\n",
      "434.7550730848762\n"
     ]
    }
   ],
   "source": [
    "# Evaluating the performance of the model(Within Set Sum of Squared Error)\n",
    "print('WSSE with K = 2')\n",
    "print(model_2.computeCost(scaled_data))\n",
    "print('--'*15)\n",
    "print('WSSE with K = 3')\n",
    "print(model_3.computeCost(scaled_data))"
   ]
  },
  {
   "cell_type": "markdown",
   "metadata": {},
   "source": [
    "*** This does not help to decide how many hackers were there because it is obvious to have the WSEE decreased with increased number  of cluster***"
   ]
  },
  {
   "cell_type": "markdown",
   "metadata": {},
   "source": [
    "*** Based on the fact that each hackers have roughly the same amount of attacks, lets check how many hacks belongs to each hacker. We will try to find for which value of K do we get the same or similar count ***"
   ]
  },
  {
   "cell_type": "code",
   "execution_count": 9,
   "metadata": {
    "collapsed": false
   },
   "outputs": [
    {
     "name": "stdout",
     "output_type": "stream",
     "text": [
      "Clustering with K = 2\n",
      "+-----------------------+-----------------+---------------+-----------------+---------------+----------------+----------+\n",
      "|Session_Connection_Time|Bytes Transferred|Kali_Trace_Used|Servers_Corrupted|Pages_Corrupted|WPM_Typing_Speed|prediction|\n",
      "+-----------------------+-----------------+---------------+-----------------+---------------+----------------+----------+\n",
      "|                    8.0|           391.09|              1|             2.96|            7.0|           72.37|         0|\n",
      "|                   20.0|           720.99|              0|             3.04|            9.0|           69.08|         0|\n",
      "|                   31.0|           356.32|              1|             3.71|            8.0|           70.58|         0|\n",
      "|                    2.0|           228.08|              1|             2.48|            8.0|            70.8|         0|\n",
      "|                   20.0|            408.5|              0|             3.57|            8.0|           71.28|         0|\n",
      "|                    1.0|           390.69|              1|             2.79|            9.0|           71.57|         0|\n",
      "|                   18.0|           342.97|              1|              5.1|            7.0|           72.32|         0|\n",
      "|                   22.0|           101.61|              1|             3.03|            7.0|           72.03|         0|\n",
      "|                   15.0|           275.53|              1|             3.53|            8.0|           70.17|         0|\n",
      "|                   12.0|           424.83|              1|             2.53|            8.0|           69.99|         0|\n",
      "|                   15.0|           249.09|              1|             3.39|            9.0|           70.77|         0|\n",
      "|                   32.0|           242.48|              0|             4.24|            8.0|           67.93|         0|\n",
      "|                   23.0|           514.54|              0|             3.18|            8.0|           68.56|         0|\n",
      "|                    9.0|           284.77|              0|             3.12|            9.0|           70.82|         0|\n",
      "|                   27.0|           779.25|              1|             2.37|            8.0|           72.73|         0|\n",
      "|                   12.0|           307.31|              1|             3.22|            7.0|           67.95|         0|\n",
      "|                   21.0|           355.94|              1|              2.0|            7.0|            72.0|         0|\n",
      "|                   10.0|           372.65|              0|             3.33|            7.0|           69.19|         0|\n",
      "|                   20.0|           347.23|              1|             2.33|            7.0|           70.41|         0|\n",
      "|                   22.0|           456.57|              0|             1.52|            8.0|           69.35|         0|\n",
      "+-----------------------+-----------------+---------------+-----------------+---------------+----------------+----------+\n",
      "only showing top 20 rows\n",
      "\n",
      "Clustering with K = 3\n",
      "+-----------------------+-----------------+---------------+-----------------+---------------+----------------+----------+\n",
      "|Session_Connection_Time|Bytes Transferred|Kali_Trace_Used|Servers_Corrupted|Pages_Corrupted|WPM_Typing_Speed|prediction|\n",
      "+-----------------------+-----------------+---------------+-----------------+---------------+----------------+----------+\n",
      "|                    8.0|           391.09|              1|             2.96|            7.0|           72.37|         0|\n",
      "|                   20.0|           720.99|              0|             3.04|            9.0|           69.08|         0|\n",
      "|                   31.0|           356.32|              1|             3.71|            8.0|           70.58|         0|\n",
      "|                    2.0|           228.08|              1|             2.48|            8.0|            70.8|         0|\n",
      "|                   20.0|            408.5|              0|             3.57|            8.0|           71.28|         0|\n",
      "|                    1.0|           390.69|              1|             2.79|            9.0|           71.57|         0|\n",
      "|                   18.0|           342.97|              1|              5.1|            7.0|           72.32|         0|\n",
      "|                   22.0|           101.61|              1|             3.03|            7.0|           72.03|         0|\n",
      "|                   15.0|           275.53|              1|             3.53|            8.0|           70.17|         0|\n",
      "|                   12.0|           424.83|              1|             2.53|            8.0|           69.99|         0|\n",
      "|                   15.0|           249.09|              1|             3.39|            9.0|           70.77|         0|\n",
      "|                   32.0|           242.48|              0|             4.24|            8.0|           67.93|         0|\n",
      "|                   23.0|           514.54|              0|             3.18|            8.0|           68.56|         0|\n",
      "|                    9.0|           284.77|              0|             3.12|            9.0|           70.82|         0|\n",
      "|                   27.0|           779.25|              1|             2.37|            8.0|           72.73|         0|\n",
      "|                   12.0|           307.31|              1|             3.22|            7.0|           67.95|         0|\n",
      "|                   21.0|           355.94|              1|              2.0|            7.0|            72.0|         0|\n",
      "|                   10.0|           372.65|              0|             3.33|            7.0|           69.19|         0|\n",
      "|                   20.0|           347.23|              1|             2.33|            7.0|           70.41|         0|\n",
      "|                   22.0|           456.57|              0|             1.52|            8.0|           69.35|         0|\n",
      "+-----------------------+-----------------+---------------+-----------------+---------------+----------------+----------+\n",
      "only showing top 20 rows\n",
      "\n"
     ]
    }
   ],
   "source": [
    "# to check which point belongs to which cluster(because we can not visualize higher-dimension data)\n",
    "results_2 = model_2.transform(scaled_data) \n",
    "print('Clustering with K = 2')\n",
    "results_2.drop('features', 'scaledFeatures', 'Location').show()\n",
    "\n",
    "results_3 = model_3.transform(scaled_data) \n",
    "print('Clustering with K = 3')\n",
    "results_3.drop('features', 'scaledFeatures', 'Location').show()"
   ]
  },
  {
   "cell_type": "code",
   "execution_count": 10,
   "metadata": {
    "collapsed": false
   },
   "outputs": [
    {
     "name": "stdout",
     "output_type": "stream",
     "text": [
      "Number of hacks by each hacker when K = 2\n",
      "+----------+-----+\n",
      "|prediction|count|\n",
      "+----------+-----+\n",
      "|         1|  167|\n",
      "|         0|  167|\n",
      "+----------+-----+\n",
      "\n",
      "\n",
      "Number of hacks by each hacker when K = 3\n",
      "+----------+-----+\n",
      "|prediction|count|\n",
      "+----------+-----+\n",
      "|         1|   88|\n",
      "|         2|   79|\n",
      "|         0|  167|\n",
      "+----------+-----+\n",
      "\n"
     ]
    }
   ],
   "source": [
    "# Let's count the number of record that belongs to each hacker\n",
    "\n",
    "print('Number of hacks by each hacker when K = 2')\n",
    "results_2.groupBy('prediction').count().show()\n",
    "\n",
    "print('\\nNumber of hacks by each hacker when K = 3')\n",
    "results_3.groupBy('prediction').count().show()"
   ]
  },
  {
   "cell_type": "markdown",
   "metadata": {},
   "source": [
    "*** Based on this analysis and above mentined fact, we can conclude that there are actually just 2 hackers ***"
   ]
  },
  {
   "cell_type": "code",
   "execution_count": null,
   "metadata": {
    "collapsed": true
   },
   "outputs": [],
   "source": []
  }
 ],
 "metadata": {
  "anaconda-cloud": {},
  "kernelspec": {
   "display_name": "Python [conda root]",
   "language": "python",
   "name": "conda-root-py"
  },
  "language_info": {
   "codemirror_mode": {
    "name": "ipython",
    "version": 3
   },
   "file_extension": ".py",
   "mimetype": "text/x-python",
   "name": "python",
   "nbconvert_exporter": "python",
   "pygments_lexer": "ipython3",
   "version": "3.5.2"
  }
 },
 "nbformat": 4,
 "nbformat_minor": 1
}
