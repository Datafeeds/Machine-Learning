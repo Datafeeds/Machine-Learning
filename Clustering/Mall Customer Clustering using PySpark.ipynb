{
 "cells": [
  {
   "cell_type": "code",
   "execution_count": 1,
   "metadata": {
    "collapsed": true
   },
   "outputs": [],
   "source": [
    "# Supressing all the warnings\n",
    "import warnings\n",
    "warnings.filterwarnings('ignore')"
   ]
  },
  {
   "cell_type": "code",
   "execution_count": 2,
   "metadata": {
    "collapsed": false
   },
   "outputs": [],
   "source": [
    "import findspark\n",
    "findspark.init('Path_to_Spark_Installation_Folder')\n",
    "\n",
    "# Initializing the Spark Session\n",
    "from pyspark.sql import SparkSession\n",
    "spark = SparkSession.builder.getOrCreate()\n",
    "\n",
    "# Reading the data\n",
    "data = spark.read.csv('Customers.csv', header = True, inferSchema = True)"
   ]
  },
  {
   "cell_type": "code",
   "execution_count": 3,
   "metadata": {
    "collapsed": false
   },
   "outputs": [
    {
     "name": "stdout",
     "output_type": "stream",
     "text": [
      "root\n",
      " |-- CustomerID: integer (nullable = true)\n",
      " |-- Genre: string (nullable = true)\n",
      " |-- Age: integer (nullable = true)\n",
      " |-- Annual Income (k$): integer (nullable = true)\n",
      " |-- Spending Score (1-100): integer (nullable = true)\n",
      "\n"
     ]
    }
   ],
   "source": [
    "data.printSchema()"
   ]
  },
  {
   "cell_type": "code",
   "execution_count": 4,
   "metadata": {
    "collapsed": false
   },
   "outputs": [
    {
     "name": "stdout",
     "output_type": "stream",
     "text": [
      "+----------+------+---+------------------+----------------------+\n",
      "|CustomerID| Genre|Age|Annual Income (k$)|Spending Score (1-100)|\n",
      "+----------+------+---+------------------+----------------------+\n",
      "|         1|  Male| 19|                15|                    39|\n",
      "|         2|  Male| 21|                15|                    81|\n",
      "|         3|Female| 20|                16|                     6|\n",
      "|         4|Female| 23|                16|                    77|\n",
      "|         5|Female| 31|                17|                    40|\n",
      "|         6|Female| 22|                17|                    76|\n",
      "|         7|Female| 35|                18|                     6|\n",
      "|         8|Female| 23|                18|                    94|\n",
      "|         9|  Male| 64|                19|                     3|\n",
      "|        10|Female| 30|                19|                    72|\n",
      "+----------+------+---+------------------+----------------------+\n",
      "only showing top 10 rows\n",
      "\n"
     ]
    }
   ],
   "source": [
    "data.show(10)"
   ]
  },
  {
   "cell_type": "code",
   "execution_count": 5,
   "metadata": {
    "collapsed": false
   },
   "outputs": [
    {
     "name": "stdout",
     "output_type": "stream",
     "text": [
      "+------+-----+\n",
      "|Income|Score|\n",
      "+------+-----+\n",
      "|    15|   39|\n",
      "|    15|   81|\n",
      "|    16|    6|\n",
      "|    16|   77|\n",
      "|    17|   40|\n",
      "|    17|   76|\n",
      "|    18|    6|\n",
      "|    18|   94|\n",
      "|    19|    3|\n",
      "|    19|   72|\n",
      "+------+-----+\n",
      "only showing top 10 rows\n",
      "\n"
     ]
    }
   ],
   "source": [
    "# Considering only two columns(Annual Income (k$) and Spending Score (1-100)) so that we can visualize our data in 2D\n",
    "# In real world pronem we want to as many significant features as available\n",
    "from pyspark.sql.functions import *\n",
    "data = data.select(col('Annual Income (k$)').alias('Income'), col('Spending Score (1-100)').alias('Score'))\n",
    "data.show(10)"
   ]
  },
  {
   "cell_type": "code",
   "execution_count": 6,
   "metadata": {
    "collapsed": false
   },
   "outputs": [
    {
     "data": {
      "text/plain": [
       "['Income', 'Score']"
      ]
     },
     "execution_count": 6,
     "metadata": {},
     "output_type": "execute_result"
    }
   ],
   "source": [
    "data.columns"
   ]
  },
  {
   "cell_type": "markdown",
   "metadata": {},
   "source": [
    "*** Since a machine learning model in Spark needs the data to be in 'feature' & 'label' format, we need to convert all the features into a single column - vector of all feature. And, this is a unsupervised model we will need only 'feature' ***"
   ]
  },
  {
   "cell_type": "code",
   "execution_count": 7,
   "metadata": {
    "collapsed": false,
    "scrolled": true
   },
   "outputs": [
    {
     "name": "stdout",
     "output_type": "stream",
     "text": [
      "+------+-----+-----------+\n",
      "|Income|Score|   features|\n",
      "+------+-----+-----------+\n",
      "|    15|   39|[15.0,39.0]|\n",
      "|    15|   81|[15.0,81.0]|\n",
      "|    16|    6| [16.0,6.0]|\n",
      "|    16|   77|[16.0,77.0]|\n",
      "|    17|   40|[17.0,40.0]|\n",
      "+------+-----+-----------+\n",
      "only showing top 5 rows\n",
      "\n"
     ]
    }
   ],
   "source": [
    "from pyspark.ml.feature import VectorAssembler\n",
    "assembler = VectorAssembler(inputCols = data.columns, outputCol = 'features')\n",
    "final_data = assembler.transform(data)\n",
    "final_data.show(5)"
   ]
  },
  {
   "cell_type": "markdown",
   "metadata": {
    "collapsed": false
   },
   "source": [
    "*** Clustering is an unsupervised model, so we need to define how amny clusters we want in our model. But at this stage, we do not know what is the best number of clusters to define. So, we will uses a technique called 'Elbow Method' to determine the best number of clusters. In this methid we calculate the clustering performance metric - within set sum of squared error - for a range of values of cluster. Then we check the number of clusters at which the error somehow starts to converge. In simple words, the point where the error stops to deop significantly. ***"
   ]
  },
  {
   "cell_type": "code",
   "execution_count": 8,
   "metadata": {
    "collapsed": false
   },
   "outputs": [],
   "source": [
    "from pyspark.ml.clustering import KMeans\n",
    "\n",
    "wcss = []\n",
    "for i in range(2, 11):\n",
    "    kmeans = KMeans(k = i, initMode = 'k-means||', maxIter = 100, initSteps = 10)\n",
    "    # choose initMode = 'k-means||' to avoid random initialization trap\n",
    "    # initMode = 'k-means||' uses k-means++ algorithm\n",
    "    # maxIter = number of iteration the algorithm goes through to find optimal value of centroids\n",
    "    # initSteps = number of times the K-means algorithm runs\n",
    "    model = kmeans.fit(final_data)\n",
    "    # Evaluating clustering by computing Within Set Sum of Squared Errors\n",
    "    wssse = model.computeCost(final_data)\n",
    "    wcss.append(wssse)   "
   ]
  },
  {
   "cell_type": "code",
   "execution_count": 9,
   "metadata": {
    "collapsed": false
   },
   "outputs": [
    {
     "data": {
      "image/png": "[encoded data removed]",
      "text/plain": [
       "<matplotlib.figure.Figure at 0x176521c2780>"
      ]
     },
     "metadata": {},
     "output_type": "display_data"
    }
   ],
   "source": [
    "# Visualizing the Elbow\n",
    "import matplotlib.pyplot as plt\n",
    "\n",
    "plt.plot(range(2, 11), wcss)\n",
    "plt.title('The Elbow Method')\n",
    "plt.xlabel('Number of Clusters')\n",
    "plt.ylabel('WCSS')\n",
    "plt.show()"
   ]
  },
  {
   "cell_type": "markdown",
   "metadata": {},
   "source": [
    "*** Here, it is very clear that the abrupt drop in error stops at number_of_cluster = 5. Hence, baesd on the eblow method concept, the best number of clusters to consider would be 5. ***"
   ]
  },
  {
   "cell_type": "code",
   "execution_count": 10,
   "metadata": {
    "collapsed": false
   },
   "outputs": [
    {
     "name": "stdout",
     "output_type": "stream",
     "text": [
      "Cluster Centers -------------\n",
      "[ 86.53846154  82.12820513]\n",
      "[ 25.72727273  79.36363636]\n",
      "[ 26.30434783  20.91304348]\n",
      "[ 55.2962963   49.51851852]\n",
      "[ 88.2         17.11428571]\n"
     ]
    }
   ],
   "source": [
    "# Training k-means model with k=5\n",
    "kmeans = KMeans(k = 5, initMode = 'k-means||', maxIter = 300, initSteps = 10)\n",
    "model = kmeans.fit(final_data)\n",
    "\n",
    "# Centers of theeach cluster\n",
    "centers = model.clusterCenters()\n",
    "print('Cluster Centers -------------')\n",
    "for center in centers:\n",
    "    print(center)"
   ]
  },
  {
   "cell_type": "markdown",
   "metadata": {},
   "source": [
    "*** As discussed earlier, our orifinal data does have label for the cluster to determine which data point falls into which cluster. So let's calculate the cluster for each data point bae=sed on our model. ***"
   ]
  },
  {
   "cell_type": "code",
   "execution_count": 11,
   "metadata": {
    "collapsed": false
   },
   "outputs": [
    {
     "name": "stdout",
     "output_type": "stream",
     "text": [
      "+------+-----+-----------+----------+\n",
      "|Income|Score|   features|prediction|\n",
      "+------+-----+-----------+----------+\n",
      "|    15|   39|[15.0,39.0]|         2|\n",
      "|    15|   81|[15.0,81.0]|         1|\n",
      "|    16|    6| [16.0,6.0]|         2|\n",
      "|    16|   77|[16.0,77.0]|         1|\n",
      "|    17|   40|[17.0,40.0]|         2|\n",
      "+------+-----+-----------+----------+\n",
      "only showing top 5 rows\n",
      "\n"
     ]
    }
   ],
   "source": [
    "output = model.transform(final_data)\n",
    "output.show(5)"
   ]
  },
  {
   "cell_type": "code",
   "execution_count": 12,
   "metadata": {
    "collapsed": false
   },
   "outputs": [
    {
     "data": {
      "text/html": [
       "<div>\n",
       "<table border=\"1\" class=\"dataframe\">\n",
       "  <thead>\n",
       "    <tr style=\"text-align: right;\">\n",
       "      <th></th>\n",
       "      <th>Income</th>\n",
       "      <th>Score</th>\n",
       "      <th>features</th>\n",
       "      <th>prediction</th>\n",
       "    </tr>\n",
       "  </thead>\n",
       "  <tbody>\n",
       "    <tr>\n",
       "      <th>0</th>\n",
       "      <td>15</td>\n",
       "      <td>39</td>\n",
       "      <td>[15.0, 39.0]</td>\n",
       "      <td>2</td>\n",
       "    </tr>\n",
       "    <tr>\n",
       "      <th>1</th>\n",
       "      <td>15</td>\n",
       "      <td>81</td>\n",
       "      <td>[15.0, 81.0]</td>\n",
       "      <td>1</td>\n",
       "    </tr>\n",
       "    <tr>\n",
       "      <th>2</th>\n",
       "      <td>16</td>\n",
       "      <td>6</td>\n",
       "      <td>[16.0, 6.0]</td>\n",
       "      <td>2</td>\n",
       "    </tr>\n",
       "    <tr>\n",
       "      <th>3</th>\n",
       "      <td>16</td>\n",
       "      <td>77</td>\n",
       "      <td>[16.0, 77.0]</td>\n",
       "      <td>1</td>\n",
       "    </tr>\n",
       "    <tr>\n",
       "      <th>4</th>\n",
       "      <td>17</td>\n",
       "      <td>40</td>\n",
       "      <td>[17.0, 40.0]</td>\n",
       "      <td>2</td>\n",
       "    </tr>\n",
       "  </tbody>\n",
       "</table>\n",
       "</div>"
      ],
      "text/plain": [
       "   Income  Score      features  prediction\n",
       "0      15     39  [15.0, 39.0]           2\n",
       "1      15     81  [15.0, 81.0]           1\n",
       "2      16      6   [16.0, 6.0]           2\n",
       "3      16     77  [16.0, 77.0]           1\n",
       "4      17     40  [17.0, 40.0]           2"
      ]
     },
     "execution_count": 12,
     "metadata": {},
     "output_type": "execute_result"
    }
   ],
   "source": [
    "# Convertind Spark dataframe to Pandas dataframe for visualization purpose\n",
    "df = output.toPandas()\n",
    "df.head()"
   ]
  },
  {
   "cell_type": "code",
   "execution_count": 13,
   "metadata": {
    "collapsed": false
   },
   "outputs": [
    {
     "data": {
      "text/plain": [
       "array([2, 1, 3, 0, 4], dtype=int64)"
      ]
     },
     "execution_count": 13,
     "metadata": {},
     "output_type": "execute_result"
    }
   ],
   "source": [
    "df.prediction.unique()"
   ]
  },
  {
   "cell_type": "code",
   "execution_count": 14,
   "metadata": {
    "collapsed": true
   },
   "outputs": [],
   "source": [
    "import pandas as pd\n",
    "cluster_center = pd.DataFrame(centers)"
   ]
  },
  {
   "cell_type": "code",
   "execution_count": 15,
   "metadata": {
    "collapsed": false
   },
   "outputs": [
    {
     "data": {
      "image/png": "[encoded data removed]",
      "text/plain": [
       "<matplotlib.figure.Figure at 0x17654abd908>"
      ]
     },
     "metadata": {},
     "output_type": "display_data"
    }
   ],
   "source": [
    "# Visualizing the clusters\n",
    "plt.figure(figsize = (8, 6))\n",
    "plt.scatter(df[df.prediction == 0]['Income'], df[df.prediction == 0]['Score'], s = 80, c = 'red', label = 'Cluster 1')\n",
    "plt.scatter(df[df.prediction == 1]['Income'], df[df.prediction == 1]['Score'], s = 80, c = 'blue', label = 'Cluster 2')\n",
    "plt.scatter(df[df.prediction == 2]['Income'], df[df.prediction == 2]['Score'], s = 80, c = 'green', label = 'Cluster 3')\n",
    "plt.scatter(df[df.prediction == 3]['Income'], df[df.prediction == 3]['Score'], s = 80, c = 'cyan', label = 'Cluster 4')\n",
    "plt.scatter(df[df.prediction == 4]['Income'], df[df.prediction == 4]['Score'], s = 80, c = 'magenta', label = 'Cluster 5')\n",
    "\n",
    "# lets plot the centroids:\n",
    "plt.scatter(cluster_center.iloc[:, 0], cluster_center.iloc[:, 1], s = 200, c = 'yellow', label = 'Centroids')\n",
    "\n",
    "plt.title('Clusters of Clients')\n",
    "plt.xlabel('Annual Income (K$)')\n",
    "plt.ylabel('Spending Score(1-100)')\n",
    "plt.legend(loc = 2, bbox_to_anchor=(1,1))\n",
    "plt.show()"
   ]
  },
  {
   "cell_type": "code",
   "execution_count": null,
   "metadata": {
    "collapsed": true
   },
   "outputs": [],
   "source": []
  }
 ],
 "metadata": {
  "anaconda-cloud": {},
  "kernelspec": {
   "display_name": "Python [conda root]",
   "language": "python",
   "name": "conda-root-py"
  },
  "language_info": {
   "codemirror_mode": {
    "name": "ipython",
    "version": 3
   },
   "file_extension": ".py",
   "mimetype": "text/x-python",
   "name": "python",
   "nbconvert_exporter": "python",
   "pygments_lexer": "ipython3",
   "version": "3.5.2"
  }
 },
 "nbformat": 4,
 "nbformat_minor": 1
}
