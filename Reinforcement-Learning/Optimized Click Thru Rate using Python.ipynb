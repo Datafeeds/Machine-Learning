{
 "cells": [
  {
   "cell_type": "markdown",
   "metadata": {},
   "source": [
    "# Ads Click Through Rate(CTR) Optimization Project"
   ]
  },
  {
   "cell_type": "markdown",
   "metadata": {},
   "source": [
    "*** A car company wants to put a advertisement for marketing purpose. The department of marketing prepared different versions of the ad. All the versions of the ad look great. So they are not sure which ad to put on the social media for promotion. They want to put the ad that will get maximum click through rate(CTR). ***"
   ]
  },
  {
   "cell_type": "markdown",
   "metadata": {},
   "source": [
    "*** In reality we will put a different version of the ad on social media each time a user logs in, and check whether the ad is viewed by  the user. Once we collect the enough samples, then we will develop a reinforment learning model to determine which ad will get the maximum CTR. ***"
   ]
  },
  {
   "cell_type": "markdown",
   "metadata": {},
   "source": [
    "*** In here, we have a simulation data which represents the user behavior. Meaning, we have 10 different versions of the ad and are presented each of them to 10000 users. Each row in the dataset represents single user. 1 in a cell represent that the user clicks the ad when it appears in user's social media profile(reward = 1) and 0 represent he/she did not click the ad(reward = 0). *** "
   ]
  },
  {
   "cell_type": "markdown",
   "metadata": {},
   "source": [
    "*** In reinforcement learning, the selection of ad is not random rather it depends on what we observed on previous rounds. That is how we are going to obtain the maximum click thru rate. It all depends on the observation from the begining of time upto current time. *** "
   ]
  },
  {
   "cell_type": "code",
   "execution_count": 1,
   "metadata": {
    "collapsed": true
   },
   "outputs": [],
   "source": [
    "# Importing the libraries\n",
    "import numpy as np\n",
    "import matplotlib.pyplot as plt\n",
    "import pandas as pd\n",
    "from math import sqrt, log\n",
    "from operator import itemgetter\n",
    "\n",
    "# Importing the dataset\n",
    "data = pd.read_csv('Ads.csv')\n",
    "\n",
    "N = data.shape[0] # number of observations\n",
    "d = data.shape[1] # number of dimensions(number of ads in this case)"
   ]
  },
  {
   "cell_type": "markdown",
   "metadata": {},
   "source": [
    "*** We are going to implement 3 different algorith here ***\n",
    "1. Random Selection\n",
    "2. Upper Confidence Bound\n",
    "3. Thompson Sampling \n"
   ]
  },
  {
   "cell_type": "markdown",
   "metadata": {},
   "source": [
    "## Random Selection\n",
    "\n",
    "*** Here the ad is selected randomly for each user. Then we check if that user would have clicked that ad by rrefering to our simulation data. ***"
   ]
  },
  {
   "cell_type": "code",
   "execution_count": 2,
   "metadata": {
    "collapsed": true
   },
   "outputs": [],
   "source": [
    "import random\n",
    "ads_selected = []\n",
    "total_reward = 0\n",
    "for n in range(0, N):\n",
    "    ad = random.randrange(d) # ad is randomly selected\n",
    "    ads_selected.append(ad) \n",
    "    reward = data.values[n, ad] \n",
    "    # reward = 1 if user would have clicked the randomly selected ad. Otherwise reward = 0(just a referebce to our dataset)\n",
    "    total_reward = total_reward + reward"
   ]
  },
  {
   "cell_type": "code",
   "execution_count": 3,
   "metadata": {
    "collapsed": false
   },
   "outputs": [
    {
     "data": {
      "image/png": "[encoded data removed]",
      "text/plain": [
       "<matplotlib.figure.Figure at 0x597e5c0>"
      ]
     },
     "metadata": {},
     "output_type": "display_data"
    }
   ],
   "source": [
    "# Visualising the Random Approach\n",
    "plt.hist(ads_selected)\n",
    "plt.title('Histogram of ads selections')\n",
    "plt.xlabel('Ads')\n",
    "plt.ylabel('Number of times each ad was selected')\n",
    "plt.show()"
   ]
  },
  {
   "cell_type": "markdown",
   "metadata": {},
   "source": [
    "*** This histogram shows the uniform distribution of ad selection. This says all the ads are almost equally likely to get maximum CTR. So we can not observe any optimization here. ***"
   ]
  },
  {
   "cell_type": "code",
   "execution_count": 4,
   "metadata": {
    "collapsed": false
   },
   "outputs": [
    {
     "name": "stdout",
     "output_type": "stream",
     "text": [
      "------ Random Selection ------\n",
      "Total Reward:  1250\n",
      "Best ad to select: 3 th\n",
      "Click Thru Rate with best ad: 10.29%\n"
     ]
    }
   ],
   "source": [
    "l =  [(i, ads_selected.count(i)) for i in set(ads_selected)]\n",
    "ind, val=  max(l, key=itemgetter(1))\n",
    "ctr_random = val / len(ads_selected) *100\n",
    "print('------ Random Selection ------')\n",
    "print('Total Reward: ', total_reward)\n",
    "print('Best ad to select: %d th'%(ind+1)) # ind + 1 as the index in python statrts with 0\n",
    "print('Click Thru Rate with best ad: %.2f%%'%ctr_random)"
   ]
  },
  {
   "cell_type": "markdown",
   "metadata": {},
   "source": [
    "## Upper Confidence Bound(UCB)"
   ]
  },
  {
   "cell_type": "markdown",
   "metadata": {},
   "source": [
    "$\\textbf{Step 1} $. For each observation n, we consider two numbers for each ad i:\n",
    "* $N_i(n) $ - the number of times the ad i was selected upto observation n,\n",
    "* $R_i(n)$ - the sum of rewards of the ad i upto observation n.\n",
    "\n",
    "$\\textbf{Step 2} $. From these two numbers we compute:\n",
    "* the average reward of ad i upto observation n\n",
    "\n",
    "<center> $r_i(n) = \\frac{R_i(n)}{N_i(n)} $ </center>\n",
    "\n",
    "* the confidence interval $ [r_i(n) - \\Delta_i(n), r_i(n) + \\Delta_i(n)]$ at observation n with\n",
    "\n",
    "<center> $  \\Delta_i(n) = \\sqrt{\\frac{3}{2}\\frac{log(n)}{N_i(n)}} $ </center>\n",
    "\n",
    "$\\textbf{Step 3} $. We select the ad i that has maximum UCB. i.e $r_i(n) + \\Delta_i(n) $\n"
   ]
  },
  {
   "cell_type": "code",
   "execution_count": 5,
   "metadata": {
    "collapsed": false
   },
   "outputs": [],
   "source": [
    "numbers_of_selections = [0]*d \n",
    "# Number of times that the particular ad is selected upto current state\n",
    "# Iniliatizing all the ads to 0 since all of them has 0 selection at the start\n",
    "# We will update this at every itiration based on which ad is selected each time\n",
    "sums_of_rewards = [0]*d\n",
    "# sum of reward of particular ad upto current state\n",
    "# Iniliatizing all the ads to 0 since obvioulsy the sum of reward for all of the ads is 0 at the start.\n",
    "ads_selected = [] # placeholder for the ad that is selected at each round of observation\n",
    "total_reward = 0\n",
    "\n",
    "for n in range(N): # looping over all the observation\n",
    "    max_ucb = 0\n",
    "    ad = 0\n",
    "    for i in range(d): # looping over all version of ads\n",
    "        # since we do not have any prior information until each of the 10 ads are selected at least once, we will \n",
    "        # select the 10 first ad without using ucb strategy. i.e ad 1 at round 1, ad 2 at round 2 and so on upto round 10 \n",
    "        if numbers_of_selections[i] > 0: # checking if the particular ad is selected before or not\n",
    "            average_reward = sums_of_rewards[i] / numbers_of_selections[i] # i-th element of vector \n",
    "            delta_i = sqrt(3/2 * log(n+1)/ numbers_of_selections[i])\n",
    "            ucb = average_reward + delta_i\n",
    "        else: # if not, assigining ucb a large value such that the value is always greater than any possible calculated ucb\n",
    "            ucb = 10**50\n",
    "        \n",
    "        # if the ucb calculated in current iteration is greater than the maximum ucb so far, the new maximum ucb will be\n",
    "        # the newly calulated ucb. Also, we always select the ad that has maximum UCB. Therefore each time we find new max_ucb,\n",
    "        # we need to keep track of the specific ad that has maximum upper confidence bound\n",
    "        if (ucb > max_ucb):\n",
    "            max_ucb = ucb\n",
    "            ad = i\n",
    "    ads_selected.append(ad) # vector of ads that is selected at each round upto current state    \n",
    "    numbers_of_selections[ad] = numbers_of_selections[ad] + 1 \n",
    "    # rewarding the currently selected ad by 1\n",
    "    # updting the ad index\n",
    "    reward = data.values[n, ad] # reward at apecific round n. \n",
    "    # In real time this a response of the user(whether user clicks the ad or not) when a specific ad \n",
    "    # is presented in his/her social media account\n",
    "    # but for simulation dataset we are considering, we want to pick the reward at specific round\n",
    "    # here 'ad' is nothing but the index of the ad that is selected in the current round\n",
    "    sums_of_rewards[ad] = sums_of_rewards[ad] + reward\n",
    "    total_reward = total_reward + reward"
   ]
  },
  {
   "cell_type": "code",
   "execution_count": 6,
   "metadata": {
    "collapsed": false
   },
   "outputs": [
    {
     "data": {
      "image/png": "[encoded data removed]",
      "text/plain": [
       "<matplotlib.figure.Figure at 0x80dc5c0>"
      ]
     },
     "metadata": {},
     "output_type": "display_data"
    }
   ],
   "source": [
    "# Visualising UCB result\n",
    "plt.hist(ads_selected)\n",
    "plt.title('Histogram of ads selections')\n",
    "plt.xlabel('Ads')\n",
    "plt.ylabel('Number of times each ad was selected')\n",
    "plt.show()"
   ]
  },
  {
   "cell_type": "markdown",
   "metadata": {},
   "source": [
    "*** Unlike in random selection method, here we can see that Ad-version 5(index = 4) will get maximum CTR. Hence, we can select this ad for the marketing purpose. ***"
   ]
  },
  {
   "cell_type": "code",
   "execution_count": 7,
   "metadata": {
    "collapsed": false
   },
   "outputs": [
    {
     "data": {
      "text/plain": [
       "[(0, 705),\n",
       " (1, 387),\n",
       " (2, 186),\n",
       " (3, 345),\n",
       " (4, 6323),\n",
       " (5, 150),\n",
       " (6, 292),\n",
       " (7, 1170),\n",
       " (8, 256),\n",
       " (9, 186)]"
      ]
     },
     "execution_count": 7,
     "metadata": {},
     "output_type": "execute_result"
    }
   ],
   "source": [
    "l =  [(i, ads_selected.count(i)) for i in set(ads_selected)]\n",
    "l"
   ]
  },
  {
   "cell_type": "code",
   "execution_count": 8,
   "metadata": {
    "collapsed": false
   },
   "outputs": [
    {
     "name": "stdout",
     "output_type": "stream",
     "text": [
      "------ Upper Confidence Bound ------\n",
      "Total Reward:  2178\n",
      "Best ad to select: 5 th\n",
      "Click Thru Rate with best ad: 63.23%\n"
     ]
    }
   ],
   "source": [
    "ind, val=  max(l, key=itemgetter(1))\n",
    "ctr_ucb = val / len(ads_selected) *100\n",
    "print('------ Upper Confidence Bound ------')\n",
    "print('Total Reward: ', total_reward)\n",
    "print('Best ad to select: %d th'%(ind+1)) # ind + 1 as the index in python statrts with 0\n",
    "print('Click Thru Rate with best ad: %.2f%%'%ctr_ucb)"
   ]
  },
  {
   "cell_type": "markdown",
   "metadata": {
    "collapsed": true
   },
   "source": [
    "*** Now lets see if we can gain higher total rewards with Thompson Sampling. ***"
   ]
  },
  {
   "cell_type": "markdown",
   "metadata": {
    "collapsed": true
   },
   "source": [
    "## Thopson Sampling"
   ]
  },
  {
   "cell_type": "markdown",
   "metadata": {},
   "source": [
    "$\\textbf{Step 1} $. For each observation n, we consider two numbers for each ad i:\n",
    "* $N_i^1(n) $ - the number of times the ad i got reward 1 upto observation n,\n",
    "* $N_i^0(n) $ - the number of times the ad i got reward 0 upto observation n.\n",
    "\n",
    "$\\textbf{Step 2} $. For each ad i, we take a random draw from the distribution below:\n",
    "\n",
    "<center> $ \\theta_i(n) = \\beta(N_i^1(n)+ 1,  N_i^0(n) + 1) $ </center>\n",
    "\n",
    "$\\textbf{Step 3} $. We select the ad i that has highest $\\theta_i(n) $\n"
   ]
  },
  {
   "cell_type": "code",
   "execution_count": 9,
   "metadata": {
    "collapsed": true
   },
   "outputs": [],
   "source": [
    "ads_selected = []\n",
    "numbers_of_rewards_1 =  [0]*d\n",
    "# each element in the array represents a number that a specific ad has got reward = 1 so far in the iteration\n",
    "# Iniliatizing all the values to 0 since no of them are rewarded 1 yet\n",
    "# We will update this at every itiration based on the ad is rewarded 1 or not\n",
    "numbers_of_rewards_0 = [0]*d\n",
    "# each element in the array represents a number that a specific ad has got reward = 0 so far in the iteration\n",
    "# Iniliatizing all the values to 0 since no of them are rewarded 0 yet\n",
    "# We will update this at every itiration based on the ad is rewarded 0 or not\n",
    "total_reward = 0\n",
    "for n in range(N):    \n",
    "    ad = 0\n",
    "    max_random = 0\n",
    "    for i in range(d):\n",
    "        random_beta = random.betavariate(numbers_of_rewards_1[i] + 1, numbers_of_rewards_0[i] + 1)\n",
    "        # if the random_beta calculated in current iteration is greater than the max_random so far, the new max_random will be\n",
    "        # the newly calulated random_beta. Also, we always select \n",
    "        if random_beta > max_random:\n",
    "            max_random = random_beta\n",
    "            ad = i\n",
    "    ads_selected.append(ad) # vector of ads that is selected at each round upto current state  \n",
    "    reward = data.values[n, ad]\n",
    "    # reward at apecific round n. \n",
    "    # In real time this a response of the user(whether user clicks the ad or not) when a specific ad \n",
    "    # is presented in his/her social media account\n",
    "    # but for simulation dataset we are considering, we want to pick the reward at specific round\n",
    "    # here 'ad' is nothing but the index of the ad that is selected in the current round\n",
    "    # if the reward selected(user response in real time) is 1, the we want to increment the \n",
    "    # numbers_of_rewards_1 for the selected ad. And the same goes with numbers_of_rewards_0\n",
    "    if reward == 1:\n",
    "        numbers_of_rewards_1[ad] += 1        \n",
    "    else:\n",
    "        numbers_of_rewards_0[ad] += 1\n",
    "    total_reward += reward"
   ]
  },
  {
   "cell_type": "code",
   "execution_count": 10,
   "metadata": {
    "collapsed": false
   },
   "outputs": [
    {
     "data": {
      "image/png": "[encoded data removed]",
      "text/plain": [
       "<matplotlib.figure.Figure at 0x59c01d0>"
      ]
     },
     "metadata": {},
     "output_type": "display_data"
    }
   ],
   "source": [
    "# Visualising Thopson Sampling result\n",
    "plt.hist(ads_selected)\n",
    "plt.title('Histogram of ads selections')\n",
    "plt.xlabel('Ads')\n",
    "plt.ylabel('Number of times each ad was selected')\n",
    "plt.show()"
   ]
  },
  {
   "cell_type": "code",
   "execution_count": 11,
   "metadata": {
    "collapsed": false
   },
   "outputs": [
    {
     "name": "stdout",
     "output_type": "stream",
     "text": [
      "------ Thompson Sampling ------\n",
      "Total Reward:  2594\n",
      "Best ad to select: 5 th\n",
      "Click Thru Rate with best ad: 93.04%\n"
     ]
    }
   ],
   "source": [
    "l =  [(i, ads_selected.count(i)) for i in set(ads_selected)]\n",
    "ind, val=  max(l, key=itemgetter(1))\n",
    "ctr_ts = val / len(ads_selected) *100\n",
    "print('------ Thompson Sampling ------')\n",
    "print('Total Reward: ', total_reward)\n",
    "print('Best ad to select: %d th'%(ind+1)) # ind + 1 as the index in python statrts with 0\n",
    "print('Click Thru Rate with best ad: %.2f%%'%ctr_ts)"
   ]
  }
 ],
 "metadata": {
  "anaconda-cloud": {},
  "kernelspec": {
   "display_name": "Python [conda root]",
   "language": "python",
   "name": "conda-root-py"
  },
  "language_info": {
   "codemirror_mode": {
    "name": "ipython",
    "version": 3
   },
   "file_extension": ".py",
   "mimetype": "text/x-python",
   "name": "python",
   "nbconvert_exporter": "python",
   "pygments_lexer": "ipython3",
   "version": "3.5.2"
  }
 },
 "nbformat": 4,
 "nbformat_minor": 1
}
