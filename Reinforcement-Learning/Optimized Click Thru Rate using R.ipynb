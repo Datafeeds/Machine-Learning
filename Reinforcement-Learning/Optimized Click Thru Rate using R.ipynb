{
 "cells": [
  {
   "cell_type": "markdown",
   "metadata": {},
   "source": [
    "# Ads Click Through Rate(CTR) Optimization Project"
   ]
  },
  {
   "cell_type": "markdown",
   "metadata": {},
   "source": [
    "*** A car company wants to put a advertisement for marketing purpose. The department of marketing prepared different versions of the ad. All the versions of the ad look great. So they are not sure which ad to put on the social media for promotion. They want to put the ad that will get maximum click through rate(CTR). ***"
   ]
  },
  {
   "cell_type": "markdown",
   "metadata": {},
   "source": [
    "*** In reality we will put a different version of the ad on social media each time a user logs in, and check whether the ad is viewed by  the user. Once we collect the enough samples, then we will develop a reinforment learning model to determine which ad will get the maximum CTR. ***"
   ]
  },
  {
   "cell_type": "markdown",
   "metadata": {},
   "source": [
    "*** In here, we have a simulation data which represents the user behavior. Meaning, we have 10 different versions of the ad and are presented each of them to 10000 users. Each row in the dataset represents single user. 1 in a cell represent that the user clicks the ad when it appears in user's social media profile(reward = 1) and 0 represent he/she did not click the ad(reward = 0). *** "
   ]
  },
  {
   "cell_type": "markdown",
   "metadata": {},
   "source": [
    "*** In reinforcement learning, the selection of ad is not random rather it depends on what we observed on previous rounds. That is how we are going to obtain the maximum click thru rate. It all depends on the observation from the begining of time upto current time. *** "
   ]
  },
  {
   "cell_type": "code",
   "execution_count": 1,
   "metadata": {
    "collapsed": false
   },
   "outputs": [],
   "source": [
    "# Importing the dataset\n",
    "data = read.csv('Ads.csv')\n",
    "\n",
    "N = nrow(data) # number of observations\n",
    "d = ncol(data) # number of dimensions(number of ads in this case)"
   ]
  },
  {
   "cell_type": "markdown",
   "metadata": {},
   "source": [
    "*** We are going to implement 3 different algorith here ***\n",
    "1. Random Selection\n",
    "2. Upper Confidence Bound\n",
    "3. Thompson Sampling \n"
   ]
  },
  {
   "cell_type": "markdown",
   "metadata": {},
   "source": [
    "## Random Selection"
   ]
  },
  {
   "cell_type": "code",
   "execution_count": 2,
   "metadata": {
    "collapsed": true
   },
   "outputs": [],
   "source": [
    "ads_selected = integer(0)\n",
    "total_reward = 0\n",
    "for (n in 1:N) {\n",
    "    ad = sample(1:d, 1) # ad is randomly selected\n",
    "    ads_selected = append(ads_selected, ad)\n",
    "    reward = data[n, ad]\n",
    "    # reward = 1 if user would have clicked the randomly selected ad. Otherwise reward = 0(just a referebce to our dataset)\n",
    "    total_reward = total_reward + reward\n",
    "}"
   ]
  },
  {
   "cell_type": "code",
   "execution_count": 3,
   "metadata": {
    "collapsed": false
   },
   "outputs": [
    {
     "data": {
      "image/png": "[encoded data removed]",
      "text/plain": [
       "Plot with title \"Histogram of ads selections\""
      ]
     },
     "metadata": {},
     "output_type": "display_data"
    }
   ],
   "source": [
    "# Visualising the Random Approach\n",
    "hist(ads_selected,\n",
    "     col = 'blue',\n",
    "     main = 'Histogram of ads selections',\n",
    "     xlab = 'Ads',\n",
    "     ylab = 'Number of times each ad was selected')"
   ]
  },
  {
   "cell_type": "markdown",
   "metadata": {},
   "source": [
    "*** This histogram shows the uniform distribution of ad selection. This says all the ads are almost equally likely to get maximum CTR. So we can not observe any optimization here. ***"
   ]
  },
  {
   "cell_type": "code",
   "execution_count": 4,
   "metadata": {
    "collapsed": false
   },
   "outputs": [
    {
     "name": "stdout",
     "output_type": "stream",
     "text": [
      "------ Random Selection ------\n",
      " Total Reward:  1222\n",
      " Best ad to select:  7 th\n",
      " Click Thru Rate with best ad:  10.49"
     ]
    }
   ],
   "source": [
    "val = table(ads_selected)\n",
    "ind = which.max(val)\n",
    "ctr_random = max(val) / length(ads_selected) *100\n",
    "\n",
    "cat('------ Random Selection ------')\n",
    "cat('\\n Total Reward: ', total_reward)\n",
    "cat('\\n Best ad to select: ', (ind), 'th')\n",
    "cat('\\n Click Thru Rate with best ad: ', ctr_random)"
   ]
  },
  {
   "cell_type": "markdown",
   "metadata": {},
   "source": [
    "## Upper Confidence Bound(UCB)"
   ]
  },
  {
   "cell_type": "markdown",
   "metadata": {},
   "source": [
    "$\\textbf{Step 1} $. For each observation n, we consider two numbers for each ad i:\n",
    "* $N_i(n) $ - the number of times the ad i was selected upto observation n,\n",
    "* $R_i(n)$ - the sum of rewards of the ad i upto observation n.\n",
    "\n",
    "$\\textbf{Step 2} $. From these two numbers we compute:\n",
    "* the average reward of ad i upto observation n\n",
    "\n",
    "<center> $r_i(n) = \\frac{R_i(n)}{N_i(n)} $ </center>\n",
    "\n",
    "* the confidence interval $ [r_i(n) - \\Delta_i(n), r_i(n) + \\Delta_i(n)]$ at observation n with\n",
    "\n",
    "<center> $  \\Delta_i(n) = \\sqrt{\\frac{3}{2}\\frac{log(n)}{N_i(n)}} $ </center>\n",
    "\n",
    "$\\textbf{Step 3} $. We select the ad i that has maximum UCB. i.e $r_i(n) + \\Delta_i(n) $\n"
   ]
  },
  {
   "cell_type": "code",
   "execution_count": 5,
   "metadata": {
    "collapsed": true
   },
   "outputs": [],
   "source": [
    "numbers_of_selections = integer(d) # 0-vector\n",
    "# Number of times that the particular ad is selected upto current state\n",
    "# Iniliatizing all the ads to 0 since all of them has 0 selection at the start\n",
    "# We will update this at every itiration based on which ad is selected each time\n",
    "sums_of_rewards = integer(d)\n",
    "# sum of reward of particular ad upto current state\n",
    "# Iniliatizing all the ads to 0 since obvioulsy the sum of reward for all of the ads is 0 at the start.\n",
    "ads_selected = integer() # placeholder for the ad that is selected at each round of observation\n",
    "total_reward = 0\n",
    "\n",
    "for(n in 1:N){ # looping over all the observation\n",
    "    max_upper_bound = 0\n",
    "    ad = 0\n",
    "    for(i in 1:d){ # looping over all version of ads\n",
    "        # since we do not have any prior information until each of the 10 ads are selected at least once, we will \n",
    "        # select the 10 first ad without using ucb strategy. i.e ad 1 at round 1, ad 2 at round 2 and so on upto round 10 \n",
    "        if(numbers_of_selections[i] > 0){ # checking if the particular ad is selected before or not\n",
    "            average_reward = sums_of_rewards[i] / numbers_of_selections[i] # i-th element of vector\n",
    "            delta_i = sqrt(3/2 * log(n)/ numbers_of_selections[i])\n",
    "            upper_bound = average_reward + delta_i\n",
    "        }\n",
    "        else{ # if not, assigining ucb a large value such that the value is always greater than any possible calculated ucb\n",
    "            upper_bound = 10**50\n",
    "        }\n",
    "        \n",
    "        # if the ucb calculated in current iteration is greater than the maximum ucb so far, the new maximum ucb will be\n",
    "        # the newly calulated ucb. Also, we always select the ad that has maximum UCB. Therefore each time we find new max_ucb,\n",
    "        # we need to keep track of the specific ad that has maximum upper confidence bound\n",
    "        if (upper_bound > max_upper_bound){\n",
    "            max_upper_bound = upper_bound\n",
    "            ad = i\n",
    "        }\n",
    "    }\n",
    "    ads_selected = append(ads_selected, ad) # vector of ads that is selected at each round upto current state    \n",
    "    numbers_of_selections[ad] = numbers_of_selections[ad] + 1\n",
    "    # rewarding the currently selected ad by 1\n",
    "    # updting the ad index\n",
    "    reward = data[n, ad] # reward at apecific round n. \n",
    "    # In real time this a response of the user(whether user clicks the ad or not) when a specific ad \n",
    "    # is presented in his/her social media account\n",
    "    # but for simulation dataset we are considering, we want to pick the reward at specific round\n",
    "    # here 'ad' is nothing but the index of the ad that is selected in the current round\n",
    "    sums_of_rewards[ad] = sums_of_rewards[ad] + reward\n",
    "    total_reward = total_reward + reward\n",
    "}"
   ]
  },
  {
   "cell_type": "code",
   "execution_count": 6,
   "metadata": {
    "collapsed": false
   },
   "outputs": [
    {
     "data": {
      "image/png": "[encoded data removed]",
      "text/plain": [
       "Plot with title \"Histogram of ads selections\""
      ]
     },
     "metadata": {},
     "output_type": "display_data"
    }
   ],
   "source": [
    "# Visualising UCB result\n",
    "hist(ads_selected,\n",
    "     col = 'blue',\n",
    "     main = 'Histogram of ads selections',\n",
    "     xlab = 'Ads',\n",
    "     ylab = 'Number of times each ad was selected')"
   ]
  },
  {
   "cell_type": "markdown",
   "metadata": {},
   "source": [
    "*** Unlike in random selection method, here we can see that Ad-version 5(index = 4) will get maximum CTR. Hence, we can select this ad for the marketing purpose. ***"
   ]
  },
  {
   "cell_type": "code",
   "execution_count": 7,
   "metadata": {
    "collapsed": false
   },
   "outputs": [
    {
     "name": "stdout",
     "output_type": "stream",
     "text": [
      "------ Upper Confidence Bound ------\n",
      " Total Reward:  2178\n",
      " Best ad to select:  5 th\n",
      " Click Thru Rate with best ad:  63.23"
     ]
    }
   ],
   "source": [
    "val = table(ads_selected)\n",
    "ind = which.max(val)\n",
    "ctr_ucb = max(val) / length(ads_selected) *100\n",
    "\n",
    "cat('------ Upper Confidence Bound ------')\n",
    "cat('\\n Total Reward: ', total_reward)\n",
    "cat('\\n Best ad to select: ', (ind), 'th')\n",
    "cat('\\n Click Thru Rate with best ad: ', ctr_ucb)"
   ]
  },
  {
   "cell_type": "markdown",
   "metadata": {
    "collapsed": true
   },
   "source": [
    "*** Now lets see if we can gain higher total rewards with Thompson Sampling. ***"
   ]
  },
  {
   "cell_type": "markdown",
   "metadata": {
    "collapsed": true
   },
   "source": [
    "## Thopson Sampling"
   ]
  },
  {
   "cell_type": "markdown",
   "metadata": {},
   "source": [
    "$\\textbf{Step 1} $. For each observation n, we consider two numbers for each ad i:\n",
    "* $N_i^1(n) $ - the number of times the ad i got reward 1 upto observation n,\n",
    "* $N_i^0(n) $ - the number of times the ad i got reward 0 upto observation n.\n",
    "\n",
    "$\\textbf{Step 2} $. For each ad i, we take a random draw from the distribution below:\n",
    "\n",
    "<center> $ \\theta_i(n) = \\beta(N_i^1(n)+ 1,  N_i^0(n) + 1) $ </center>\n",
    "\n",
    "$\\textbf{Step 3} $. We select the ad i that has highest $\\theta_i(n) $\n"
   ]
  },
  {
   "cell_type": "code",
   "execution_count": 8,
   "metadata": {
    "collapsed": true
   },
   "outputs": [],
   "source": [
    "ads_selected = integer()\n",
    "numbers_of_rewards_1 =  integer(d) # 0-vector\n",
    "# each element in the array represents a number that a specific ad has got reward = 1 so far in the iteration\n",
    "# Iniliatizing all the values to 0 since no of them are rewarded 1 yet\n",
    "# We will update this at every itiration based on the ad is rewarded 1 or not\n",
    "numbers_of_rewards_0 = integer(d)\n",
    "# each element in the array represents a number that a specific ad has got reward = 0 so far in the iteration\n",
    "# Iniliatizing all the values to 0 since no of them are rewarded 0 yet\n",
    "# We will update this at every itiration based on the ad is rewarded 0 or not\n",
    "total_reward = 0\n",
    "\n",
    "for (n in 1:N){\n",
    "    ad = 0\n",
    "    max_random = 0\n",
    "    for (i in 1:d){\n",
    "        random_beta = rbeta(n = 1,\n",
    "                            shape1 = numbers_of_rewards_1[i] + 1,\n",
    "                            shape2 = numbers_of_rewards_0[i] + 1)\n",
    "        # if the random_beta calculated in current iteration is greater than the max_random so far, the new max_random will be\n",
    "        # the newly calulated random_beta. Also, we always select \n",
    "        if (random_beta > max_random){\n",
    "            max_random = random_beta\n",
    "            ad = i\n",
    "        }\n",
    "    }\n",
    "    ads_selected = append(ads_selected, ad) # vector of ads that is selected at each round upto current state \n",
    "    reward = data[n, ad]\n",
    "    # reward at apecific round n. \n",
    "    # In real time this a response of the user(whether user clicks the ad or not) when a specific ad \n",
    "    # is presented in his/her social media account\n",
    "    # but for simulation dataset we are considering, we want to pick the reward at specific round\n",
    "    # here 'ad' is nothing but the index of the ad that is selected in the current round\n",
    "    # if the reward selected(user response in real time) is 1, the we want to increment the \n",
    "    # numbers_of_rewards_1 for the selected ad. And the same goes with numbers_of_rewards_0\n",
    "    if (reward == 1){\n",
    "        numbers_of_rewards_1[ad] = numbers_of_rewards_1[ad] + 1\n",
    "    }\n",
    "    else{\n",
    "        numbers_of_rewards_0[ad] = numbers_of_rewards_0[ad] + 1\n",
    "    }\n",
    "    total_reward = total_reward + reward\n",
    "}"
   ]
  },
  {
   "cell_type": "code",
   "execution_count": 9,
   "metadata": {
    "collapsed": false
   },
   "outputs": [
    {
     "data": {
      "image/png": "[encoded data removed]",
      "text/plain": [
       "Plot with title \"Histogram of ads selections\""
      ]
     },
     "metadata": {},
     "output_type": "display_data"
    }
   ],
   "source": [
    "# Visualising Thopson Sampling result\n",
    "hist(ads_selected,\n",
    "     col = 'blue',\n",
    "     main = 'Histogram of ads selections',\n",
    "     xlab = 'Ads',\n",
    "     ylab = 'Number of times each ad was selected')"
   ]
  },
  {
   "cell_type": "code",
   "execution_count": 10,
   "metadata": {
    "collapsed": false
   },
   "outputs": [
    {
     "name": "stdout",
     "output_type": "stream",
     "text": [
      "------ Thompson Sampling ------\n",
      " Total Reward:  2617\n",
      " Best ad to select:  5 th\n",
      " Click Thru Rate with best ad:  94.93"
     ]
    }
   ],
   "source": [
    "val = table(ads_selected)\n",
    "ind = which.max(val)\n",
    "ctr_ts = max(val) / length(ads_selected) *100\n",
    "\n",
    "cat('------ Thompson Sampling ------')\n",
    "cat('\\n Total Reward: ', total_reward)\n",
    "cat('\\n Best ad to select: ', (ind), 'th')\n",
    "cat('\\n Click Thru Rate with best ad: ', ctr_ts)"
   ]
  }
 ],
 "metadata": {
  "anaconda-cloud": {},
  "kernelspec": {
   "display_name": "R",
   "language": "R",
   "name": "ir"
  },
  "language_info": {
   "codemirror_mode": "r",
   "file_extension": ".r",
   "mimetype": "text/x-r-source",
   "name": "R",
   "pygments_lexer": "r",
   "version": "3.3.2"
  }
 },
 "nbformat": 4,
 "nbformat_minor": 1
}
