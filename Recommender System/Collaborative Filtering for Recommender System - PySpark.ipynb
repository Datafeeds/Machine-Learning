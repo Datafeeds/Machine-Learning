{
 "cells": [
  {
   "cell_type": "code",
   "execution_count": 1,
   "metadata": {
    "collapsed": true
   },
   "outputs": [],
   "source": [
    "import findspark\n",
    "findspark.init('Path-to_Spark_Installtion_Directory')\n",
    "\n",
    "from pyspark.sql import SparkSession\n",
    "spark = SparkSession.builder.getOrCreate()"
   ]
  },
  {
   "cell_type": "code",
   "execution_count": 2,
   "metadata": {
    "collapsed": false
   },
   "outputs": [
    {
     "name": "stdout",
     "output_type": "stream",
     "text": [
      "root\n",
      " |-- userId: integer (nullable = true)\n",
      " |-- movieId: integer (nullable = true)\n",
      " |-- rating: double (nullable = true)\n",
      "\n"
     ]
    }
   ],
   "source": [
    "data = spark.read.csv('movie_ratings.csv', header = True, inferSchema = True)\n",
    "data.printSchema()"
   ]
  },
  {
   "cell_type": "code",
   "execution_count": 3,
   "metadata": {
    "collapsed": false
   },
   "outputs": [
    {
     "name": "stdout",
     "output_type": "stream",
     "text": [
      "+-------+------------------+------------------+------------------+\n",
      "|summary|            userId|           movieId|            rating|\n",
      "+-------+------------------+------------------+------------------+\n",
      "|  count|            100004|            100004|            100004|\n",
      "|   mean| 347.0113095476181|12548.664363425463| 3.543608255669773|\n",
      "| stddev|195.16383797819535|26369.198968815268|1.0580641091070326|\n",
      "|    min|                 1|                 1|               0.5|\n",
      "|    max|               671|            163949|               5.0|\n",
      "+-------+------------------+------------------+------------------+\n",
      "\n"
     ]
    }
   ],
   "source": [
    "data.describe().show()"
   ]
  },
  {
   "cell_type": "code",
   "execution_count": 4,
   "metadata": {
    "collapsed": true
   },
   "outputs": [],
   "source": [
    "# Splitting the data into train set and test set\n",
    "train, test = data.randomSplit([0.8, 0.2])"
   ]
  },
  {
   "cell_type": "code",
   "execution_count": 5,
   "metadata": {
    "collapsed": false
   },
   "outputs": [
    {
     "name": "stdout",
     "output_type": "stream",
     "text": [
      "+------+-------+------+----------+\n",
      "|userId|movieId|rating|prediction|\n",
      "+------+-------+------+----------+\n",
      "|   242|    463|   4.0| 3.7814856|\n",
      "|   350|    471|   3.0| 3.9126155|\n",
      "|   306|    471|   3.0| 3.9589782|\n",
      "|   607|    471|   4.0|  3.478189|\n",
      "|   537|    471|   5.0|  4.008949|\n",
      "|   380|    471|   4.0| 3.5639136|\n",
      "|   487|    471|   4.0| 3.9232037|\n",
      "|   574|    471|   3.5| 3.8216467|\n",
      "|   105|    471|   4.0| 3.5162578|\n",
      "|   521|    471|   3.5|  4.221143|\n",
      "+------+-------+------+----------+\n",
      "only showing top 10 rows\n",
      "\n"
     ]
    }
   ],
   "source": [
    "# Developing recommnedation system model\n",
    "# Alternative least square(ALS) method\n",
    "from pyspark.ml.recommendation import ALS\n",
    "als = ALS(maxIter = 5,\n",
    "          regParam = 0.01,\n",
    "          userCol = 'userId',\n",
    "          itemCol = 'movieId',\n",
    "          ratingCol = 'rating')\n",
    "\n",
    "# Fitting the model with training data\n",
    "model = als.fit(train)\n",
    "\n",
    "# Checking the prediction with test data\n",
    "pred = model.transform(test)\n",
    "pred.show(10)"
   ]
  },
  {
   "cell_type": "code",
   "execution_count": 6,
   "metadata": {
    "collapsed": false
   },
   "outputs": [
    {
     "name": "stdout",
     "output_type": "stream",
     "text": [
      "RMSE: 1.12\n"
     ]
    }
   ],
   "source": [
    "# Evaluating the model\n",
    "from pyspark.ml.evaluation import RegressionEvaluator\n",
    "\n",
    "evaluator = RegressionEvaluator(metricName = 'rmse', labelCol = 'rating', predictionCol = 'prediction')\n",
    "rmse = evaluator.evaluate(pred.na.drop())\n",
    "print('RMSE: %.2f'%rmse)"
   ]
  },
  {
   "cell_type": "code",
   "execution_count": 7,
   "metadata": {
    "collapsed": false
   },
   "outputs": [
    {
     "name": "stdout",
     "output_type": "stream",
     "text": [
      "+-------+------+\n",
      "|movieId|userId|\n",
      "+-------+------+\n",
      "|    126|    11|\n",
      "|    923|    11|\n",
      "|   2596|    11|\n",
      "|  48516|    11|\n",
      "|  77455|    11|\n",
      "|  79132|    11|\n",
      "|  80489|    11|\n",
      "|  91548|    11|\n",
      "| 106487|    11|\n",
      "+-------+------+\n",
      "\n"
     ]
    }
   ],
   "source": [
    "# How can we use this model to recommend a movie to a new single user\n",
    "single_user = test.filter(test['userId'] == 11).select(['movieId', 'userId'])\n",
    "single_user.show(10)"
   ]
  },
  {
   "cell_type": "code",
   "execution_count": 8,
   "metadata": {
    "collapsed": false
   },
   "outputs": [
    {
     "name": "stdout",
     "output_type": "stream",
     "text": [
      "+-------+------+----------+\n",
      "|movieId|userId|prediction|\n",
      "+-------+------+----------+\n",
      "| 106487|    11| 1.9842854|\n",
      "|  91548|    11|       NaN|\n",
      "|  80489|    11| 5.7499537|\n",
      "|  79132|    11| 3.3195586|\n",
      "|  77455|    11| 4.0956645|\n",
      "|  48516|    11|  4.766561|\n",
      "|   2596|    11|  4.890043|\n",
      "|    923|    11| 3.3459005|\n",
      "|    126|    11| 5.2579637|\n",
      "+-------+------+----------+\n",
      "\n"
     ]
    }
   ],
   "source": [
    "# Let's predict how this user going to like the above mentioned movies\n",
    "recommendations = model.transform(single_user)\n",
    "recommendations.orderBy('movieId', ascending = False).show(10)"
   ]
  },
  {
   "cell_type": "code",
   "execution_count": 9,
   "metadata": {
    "collapsed": false
   },
   "outputs": [
    {
     "name": "stdout",
     "output_type": "stream",
     "text": [
      "+------+-------+------+\n",
      "|userId|movieId|rating|\n",
      "+------+-------+------+\n",
      "|    11| 106487|   5.0|\n",
      "|    11|  91548|   4.0|\n",
      "|    11|  80489|   4.5|\n",
      "|    11|  79132|   4.0|\n",
      "|    11|  77455|   4.5|\n",
      "|    11|  48516|   5.0|\n",
      "|    11|   2596|   4.5|\n",
      "|    11|    923|   5.0|\n",
      "|    11|    126|   4.0|\n",
      "+------+-------+------+\n",
      "\n"
     ]
    }
   ],
   "source": [
    "# Let's check our prediction against the actual data to see how well our model perform\n",
    "test.filter(test['userId'] == 11).orderBy('movieId', ascending = False).show(10)"
   ]
  }
 ],
 "metadata": {
  "anaconda-cloud": {},
  "kernelspec": {
   "display_name": "Python [conda root]",
   "language": "python",
   "name": "conda-root-py"
  },
  "language_info": {
   "codemirror_mode": {
    "name": "ipython",
    "version": 3
   },
   "file_extension": ".py",
   "mimetype": "text/x-python",
   "name": "python",
   "nbconvert_exporter": "python",
   "pygments_lexer": "ipython3",
   "version": "3.5.2"
  }
 },
 "nbformat": 4,
 "nbformat_minor": 1
}
