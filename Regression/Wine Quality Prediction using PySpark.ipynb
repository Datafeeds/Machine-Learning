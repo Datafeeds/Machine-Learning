{
 "cells": [
  {
   "cell_type": "code",
   "execution_count": 1,
   "metadata": {
    "collapsed": false
   },
   "outputs": [],
   "source": [
    "import findspark\n",
    "findspark.init('path_to_spark_installation_directory')\n",
    "\n",
    "from pyspark.sql import SparkSession\n",
    "spark = SparkSession.builder.getOrCreate()\n",
    "\n",
    "data = spark.read.csv('winequality-red.csv',\n",
    "                      inferSchema = True, \n",
    "                      header = True,\n",
    "                     sep = ';')"
   ]
  },
  {
   "cell_type": "code",
   "execution_count": 2,
   "metadata": {
    "collapsed": false
   },
   "outputs": [
    {
     "name": "stdout",
     "output_type": "stream",
     "text": [
      "root\n",
      " |-- fixed acidity: double (nullable = true)\n",
      " |-- volatile acidity: double (nullable = true)\n",
      " |-- citric acid: double (nullable = true)\n",
      " |-- residual sugar: double (nullable = true)\n",
      " |-- chlorides: double (nullable = true)\n",
      " |-- free sulfur dioxide: double (nullable = true)\n",
      " |-- total sulfur dioxide: double (nullable = true)\n",
      " |-- density: double (nullable = true)\n",
      " |-- pH: double (nullable = true)\n",
      " |-- sulphates: double (nullable = true)\n",
      " |-- alcohol: double (nullable = true)\n",
      " |-- quality: integer (nullable = true)\n",
      "\n"
     ]
    }
   ],
   "source": [
    "data.printSchema()"
   ]
  },
  {
   "cell_type": "code",
   "execution_count": 3,
   "metadata": {
    "collapsed": false
   },
   "outputs": [
    {
     "name": "stdout",
     "output_type": "stream",
     "text": [
      "+-------------+----------------+-----------+--------------+---------+-------------------+--------------------+-------+----+---------+-------+-------+\n",
      "|fixed acidity|volatile acidity|citric acid|residual sugar|chlorides|free sulfur dioxide|total sulfur dioxide|density|  pH|sulphates|alcohol|quality|\n",
      "+-------------+----------------+-----------+--------------+---------+-------------------+--------------------+-------+----+---------+-------+-------+\n",
      "|          7.4|             0.7|        0.0|           1.9|    0.076|               11.0|                34.0| 0.9978|3.51|     0.56|    9.4|      5|\n",
      "|          7.8|            0.88|        0.0|           2.6|    0.098|               25.0|                67.0| 0.9968| 3.2|     0.68|    9.8|      5|\n",
      "|          7.8|            0.76|       0.04|           2.3|    0.092|               15.0|                54.0|  0.997|3.26|     0.65|    9.8|      5|\n",
      "|         11.2|            0.28|       0.56|           1.9|    0.075|               17.0|                60.0|  0.998|3.16|     0.58|    9.8|      6|\n",
      "|          7.4|             0.7|        0.0|           1.9|    0.076|               11.0|                34.0| 0.9978|3.51|     0.56|    9.4|      5|\n",
      "|          7.4|            0.66|        0.0|           1.8|    0.075|               13.0|                40.0| 0.9978|3.51|     0.56|    9.4|      5|\n",
      "|          7.9|             0.6|       0.06|           1.6|    0.069|               15.0|                59.0| 0.9964| 3.3|     0.46|    9.4|      5|\n",
      "|          7.3|            0.65|        0.0|           1.2|    0.065|               15.0|                21.0| 0.9946|3.39|     0.47|   10.0|      7|\n",
      "|          7.8|            0.58|       0.02|           2.0|    0.073|                9.0|                18.0| 0.9968|3.36|     0.57|    9.5|      7|\n",
      "|          7.5|             0.5|       0.36|           6.1|    0.071|               17.0|               102.0| 0.9978|3.35|      0.8|   10.5|      5|\n",
      "|          6.7|            0.58|       0.08|           1.8|    0.097|               15.0|                65.0| 0.9959|3.28|     0.54|    9.2|      5|\n",
      "|          7.5|             0.5|       0.36|           6.1|    0.071|               17.0|               102.0| 0.9978|3.35|      0.8|   10.5|      5|\n",
      "|          5.6|           0.615|        0.0|           1.6|    0.089|               16.0|                59.0| 0.9943|3.58|     0.52|    9.9|      5|\n",
      "|          7.8|            0.61|       0.29|           1.6|    0.114|                9.0|                29.0| 0.9974|3.26|     1.56|    9.1|      5|\n",
      "|          8.9|            0.62|       0.18|           3.8|    0.176|               52.0|               145.0| 0.9986|3.16|     0.88|    9.2|      5|\n",
      "|          8.9|            0.62|       0.19|           3.9|     0.17|               51.0|               148.0| 0.9986|3.17|     0.93|    9.2|      5|\n",
      "|          8.5|            0.28|       0.56|           1.8|    0.092|               35.0|               103.0| 0.9969| 3.3|     0.75|   10.5|      7|\n",
      "|          8.1|            0.56|       0.28|           1.7|    0.368|               16.0|                56.0| 0.9968|3.11|     1.28|    9.3|      5|\n",
      "|          7.4|            0.59|       0.08|           4.4|    0.086|                6.0|                29.0| 0.9974|3.38|      0.5|    9.0|      4|\n",
      "|          7.9|            0.32|       0.51|           1.8|    0.341|               17.0|                56.0| 0.9969|3.04|     1.08|    9.2|      6|\n",
      "+-------------+----------------+-----------+--------------+---------+-------------------+--------------------+-------+----+---------+-------+-------+\n",
      "only showing top 20 rows\n",
      "\n"
     ]
    }
   ],
   "source": [
    "data.show()"
   ]
  },
  {
   "cell_type": "code",
   "execution_count": 4,
   "metadata": {
    "collapsed": false
   },
   "outputs": [
    {
     "name": "stdout",
     "output_type": "stream",
     "text": [
      "+-------+------------------+-------------------+-------------------+------------------+--------------------+-------------------+--------------------+--------------------+-------------------+------------------+------------------+------------------+\n",
      "|summary|     fixed acidity|   volatile acidity|        citric acid|    residual sugar|           chlorides|free sulfur dioxide|total sulfur dioxide|             density|                 pH|         sulphates|           alcohol|           quality|\n",
      "+-------+------------------+-------------------+-------------------+------------------+--------------------+-------------------+--------------------+--------------------+-------------------+------------------+------------------+------------------+\n",
      "|  count|              1599|               1599|               1599|              1599|                1599|               1599|                1599|                1599|               1599|              1599|              1599|              1599|\n",
      "|   mean| 8.319637273295838| 0.5278205128205131| 0.2709756097560964|2.5388055034396517| 0.08746654158849257| 15.874921826141339|   46.46779237023139|  0.9967466791744831|  3.311113195747343|0.6581488430268921|10.422983114446502|5.6360225140712945|\n",
      "| stddev|1.7410963181276948|0.17905970415353525|0.19480113740531824|  1.40992805950728|0.047065302010090085|  10.46015696980971|   32.89532447829907|0.001887333953842...|0.15438646490354271|0.1695069795901101|1.0656675818473935|0.8075694397347051|\n",
      "|    min|               4.6|               0.12|                0.0|               0.9|               0.012|                1.0|                 6.0|             0.99007|               2.74|              0.33|               8.4|                 3|\n",
      "|    max|              15.9|               1.58|                1.0|              15.5|               0.611|               72.0|               289.0|             1.00369|               4.01|               2.0|              14.9|                 8|\n",
      "+-------+------------------+-------------------+-------------------+------------------+--------------------+-------------------+--------------------+--------------------+-------------------+------------------+------------------+------------------+\n",
      "\n"
     ]
    }
   ],
   "source": [
    "data.describe().show()"
   ]
  },
  {
   "cell_type": "code",
   "execution_count": 5,
   "metadata": {
    "collapsed": false
   },
   "outputs": [
    {
     "data": {
      "text/plain": [
       "['fixed acidity',\n",
       " 'volatile acidity',\n",
       " 'citric acid',\n",
       " 'residual sugar',\n",
       " 'chlorides',\n",
       " 'free sulfur dioxide',\n",
       " 'total sulfur dioxide',\n",
       " 'density',\n",
       " 'pH',\n",
       " 'sulphates',\n",
       " 'alcohol',\n",
       " 'quality']"
      ]
     },
     "execution_count": 5,
     "metadata": {},
     "output_type": "execute_result"
    }
   ],
   "source": [
    "data.columns"
   ]
  },
  {
   "cell_type": "code",
   "execution_count": 6,
   "metadata": {
    "collapsed": false
   },
   "outputs": [
    {
     "name": "stdout",
     "output_type": "stream",
     "text": [
      "+--------------------+-------+\n",
      "|            features|quality|\n",
      "+--------------------+-------+\n",
      "|[7.4,0.7,0.0,1.9,...|      5|\n",
      "|[7.8,0.88,0.0,2.6...|      5|\n",
      "|[7.8,0.76,0.04,2....|      5|\n",
      "|[11.2,0.28,0.56,1...|      6|\n",
      "|[7.4,0.7,0.0,1.9,...|      5|\n",
      "|[7.4,0.66,0.0,1.8...|      5|\n",
      "|[7.9,0.6,0.06,1.6...|      5|\n",
      "|[7.3,0.65,0.0,1.2...|      7|\n",
      "|[7.8,0.58,0.02,2....|      7|\n",
      "|[7.5,0.5,0.36,6.1...|      5|\n",
      "|[6.7,0.58,0.08,1....|      5|\n",
      "|[7.5,0.5,0.36,6.1...|      5|\n",
      "|[5.6,0.615,0.0,1....|      5|\n",
      "|[7.8,0.61,0.29,1....|      5|\n",
      "|[8.9,0.62,0.18,3....|      5|\n",
      "|[8.9,0.62,0.19,3....|      5|\n",
      "|[8.5,0.28,0.56,1....|      7|\n",
      "|[8.1,0.56,0.28,1....|      5|\n",
      "|[7.4,0.59,0.08,4....|      4|\n",
      "|[7.9,0.32,0.51,1....|      6|\n",
      "+--------------------+-------+\n",
      "only showing top 20 rows\n",
      "\n"
     ]
    }
   ],
   "source": [
    "from pyspark.ml.feature import VectorAssembler\n",
    "assembler = VectorAssembler(inputCols=['fixed acidity', 'volatile acidity', 'citric acid', 'residual sugar', 'chlorides',\n",
    "                           'free sulfur dioxide', 'total sulfur dioxide', 'density', 'pH', 'sulphates', 'alcohol'],\n",
    "                outputCol=\"features\")\n",
    "output = assembler.transform(data)\n",
    "final_data = output.select('features', 'quality')\n",
    "final_data.show()"
   ]
  },
  {
   "cell_type": "code",
   "execution_count": 7,
   "metadata": {
    "collapsed": true
   },
   "outputs": [],
   "source": [
    "# Splitting the data into trainind and test set\n",
    "train, test = final_data.randomSplit([0.8, 0.2])"
   ]
  },
  {
   "cell_type": "code",
   "execution_count": 8,
   "metadata": {
    "collapsed": false
   },
   "outputs": [],
   "source": [
    "# Creating Regression model\n",
    "from pyspark.ml.regression import LinearRegression, RandomForestRegressor\n",
    "lr = LinearRegression(labelCol = 'quality')\n",
    "rfr = RandomForestRegressor(labelCol = 'quality', maxDepth = 10)\n",
    "\n",
    "# Fit the model using training data\n",
    "lrModel = lr.fit(train) \n",
    "rfrModel = rfr.fit(train)"
   ]
  },
  {
   "cell_type": "markdown",
   "metadata": {},
   "source": [
    "### Evaluation and Prediction"
   ]
  },
  {
   "cell_type": "code",
   "execution_count": 9,
   "metadata": {
    "collapsed": false
   },
   "outputs": [
    {
     "name": "stdout",
     "output_type": "stream",
     "text": [
      "---------------- Linear Regression Model ----------------\n",
      "RMSE: 0.6756515932403583\n",
      "MSE: 0.45650507544823454\n",
      "R2: 0.34997807416261095\n"
     ]
    }
   ],
   "source": [
    "# Evaluating Linear Regression Model\n",
    "\n",
    "print('---------------- Linear Regression Model ----------------')\n",
    "result_lr = lrModel.evaluate(test)\n",
    "print(\"RMSE: {}\".format(result_lr.rootMeanSquaredError))\n",
    "print(\"MSE: {}\".format(result_lr.meanSquaredError))\n",
    "print(\"R2: {}\".format(result_lr.r2))"
   ]
  },
  {
   "cell_type": "code",
   "execution_count": 10,
   "metadata": {
    "collapsed": false
   },
   "outputs": [
    {
     "name": "stdout",
     "output_type": "stream",
     "text": [
      "+-----------------------------------------------------------+-------+------------------+\n",
      "|features                                                   |quality|prediction        |\n",
      "+-----------------------------------------------------------+-------+------------------+\n",
      "|[5.0,0.42,0.24,2.0,0.06,19.0,50.0,0.9917,3.72,0.74,14.0]   |8      |6.697197514761346 |\n",
      "|[5.0,0.74,0.0,1.2,0.041,16.0,46.0,0.99258,4.01,0.59,12.5]  |6      |5.7483453533740345|\n",
      "|[5.1,0.585,0.0,1.7,0.044,14.0,86.0,0.99264,3.56,0.94,12.9] |7      |6.431535554961481 |\n",
      "|[5.4,0.58,0.08,1.9,0.059,20.0,31.0,0.99484,3.5,0.64,10.2]  |6      |5.538217137536897 |\n",
      "|[5.6,0.31,0.37,1.4,0.074,12.0,96.0,0.9954,3.32,0.58,9.2]   |5      |5.236398739076211 |\n",
      "|[5.6,0.605,0.05,2.4,0.073,19.0,25.0,0.99258,3.56,0.55,12.9]|5      |6.17616922927802  |\n",
      "|[5.6,0.615,0.0,1.6,0.089,16.0,59.0,0.9943,3.58,0.52,9.9]   |5      |5.130264783962634 |\n",
      "|[5.6,0.66,0.0,2.2,0.087,3.0,11.0,0.99378,3.71,0.63,12.8]   |7      |6.050557086780039 |\n",
      "|[5.6,0.66,0.0,2.5,0.066,7.0,15.0,0.99256,3.52,0.58,12.9]   |5      |6.18208464585037  |\n",
      "|[5.6,0.915,0.0,2.1,0.041,17.0,78.0,0.99346,3.68,0.73,11.4] |5      |5.476503998958282 |\n",
      "|[5.7,0.6,0.0,1.4,0.063,11.0,18.0,0.99191,3.45,0.56,12.2]   |6      |6.06612347251334  |\n",
      "|[5.8,0.29,0.26,1.7,0.063,3.0,11.0,0.9915,3.39,0.54,13.5]   |6      |6.699755857902398 |\n",
      "|[5.9,0.44,0.0,1.6,0.042,3.0,11.0,0.9944,3.48,0.85,11.7]    |6      |6.3700041585559095|\n",
      "|[5.9,0.46,0.0,1.9,0.077,25.0,44.0,0.99385,3.5,0.53,11.2]   |5      |5.805042993854247 |\n",
      "|[6.0,0.31,0.47,3.6,0.067,18.0,42.0,0.99549,3.39,0.66,11.0] |6      |6.003601588867472 |\n",
      "|[6.0,0.54,0.06,1.8,0.05,38.0,89.0,0.99236,3.3,0.5,10.55]   |6      |5.587339480174428 |\n",
      "|[6.1,0.38,0.15,1.8,0.072,6.0,19.0,0.9955,3.42,0.57,9.4]    |5      |5.436682541653461 |\n",
      "|[6.1,0.59,0.01,2.1,0.056,5.0,13.0,0.99472,3.52,0.56,11.4]  |5      |5.809052684693338 |\n",
      "|[6.1,0.715,0.1,2.6,0.053,13.0,27.0,0.99362,3.57,0.5,11.9]  |5      |5.743641229879042 |\n",
      "|[6.2,0.36,0.24,2.2,0.095,19.0,42.0,0.9946,3.57,0.57,11.7]  |6      |5.956121574495491 |\n",
      "+-----------------------------------------------------------+-------+------------------+\n",
      "only showing top 20 rows\n",
      "\n"
     ]
    }
   ],
   "source": [
    "# Predicting the quality of wine using linear regression model\n",
    "prediction = lrModel.transform(test)\n",
    "prediction.show(truncate = False)"
   ]
  },
  {
   "cell_type": "code",
   "execution_count": 11,
   "metadata": {
    "collapsed": false
   },
   "outputs": [
    {
     "name": "stdout",
     "output_type": "stream",
     "text": [
      "+--------------------+-------+------------------+\n",
      "|            features|quality|        prediction|\n",
      "+--------------------+-------+------------------+\n",
      "|[5.0,0.42,0.24,2....|      8| 6.611111111111112|\n",
      "|[5.0,0.74,0.0,1.2...|      6|6.0526785714285705|\n",
      "|[5.1,0.585,0.0,1....|      7| 6.914285714285714|\n",
      "|[5.4,0.58,0.08,1....|      6| 5.612744822635267|\n",
      "|[5.6,0.31,0.37,1....|      5| 5.207173710792132|\n",
      "|[5.6,0.605,0.05,2...|      5| 5.878205128205129|\n",
      "|[5.6,0.615,0.0,1....|      5| 4.981385116136996|\n",
      "|[5.6,0.66,0.0,2.2...|      7| 6.361538461538461|\n",
      "|[5.6,0.66,0.0,2.5...|      5|5.7666666666666675|\n",
      "|[5.6,0.915,0.0,2....|      5|            5.9325|\n",
      "|[5.7,0.6,0.0,1.4,...|      6|           6.08125|\n",
      "|[5.8,0.29,0.26,1....|      6|              6.35|\n",
      "|[5.9,0.44,0.0,1.6...|      6| 6.526666666666666|\n",
      "|[5.9,0.46,0.0,1.9...|      5| 5.817948717948719|\n",
      "|[6.0,0.31,0.47,3....|      6| 6.333295454545455|\n",
      "|[6.0,0.54,0.06,1....|      6| 5.486606595159226|\n",
      "|[6.1,0.38,0.15,1....|      5| 5.143589708285061|\n",
      "|[6.1,0.59,0.01,2....|      5| 5.259038461538462|\n",
      "|[6.1,0.715,0.1,2....|      5| 5.437094017094017|\n",
      "|[6.2,0.36,0.24,2....|      6| 5.695192307692308|\n",
      "+--------------------+-------+------------------+\n",
      "only showing top 20 rows\n",
      "\n"
     ]
    }
   ],
   "source": [
    "# Predicting Random Forest Model\n",
    "prediction_rfr = rfrModel.transform(test)\n",
    "prediction_rfr.show()"
   ]
  },
  {
   "cell_type": "code",
   "execution_count": 12,
   "metadata": {
    "collapsed": false
   },
   "outputs": [
    {
     "name": "stdout",
     "output_type": "stream",
     "text": [
      "---------------- Random Forest Model ----------------\n",
      "RMSE: 0.6152923469245164\n",
      "MSE: 0.3785846721838795\n",
      "R2: 0.4609296786813334\n"
     ]
    }
   ],
   "source": [
    "# Evaluating Random Forest Model\n",
    "from pyspark.ml.evaluation import RegressionEvaluator\n",
    "rmse_eval = RegressionEvaluator(labelCol = 'quality', predictionCol = 'prediction', metricName = 'rmse')\n",
    "mse_eval = RegressionEvaluator(labelCol = 'quality', predictionCol = 'prediction', metricName = 'mse')\n",
    "r2_eval = RegressionEvaluator(labelCol = 'quality', predictionCol = 'prediction', metricName = 'r2')\n",
    "\n",
    "rmse = rmse_eval.evaluate(prediction_rfr)\n",
    "mse = mse_eval.evaluate(prediction_rfr)\n",
    "r2 = r2_eval.evaluate(prediction_rfr)\n",
    "\n",
    "print('---------------- Random Forest Model ----------------')\n",
    "print(\"RMSE: {}\".format(rmse))\n",
    "print(\"MSE: {}\".format(mse))\n",
    "print(\"R2: {}\".format(r2))"
   ]
  },
  {
   "cell_type": "code",
   "execution_count": null,
   "metadata": {
    "collapsed": true
   },
   "outputs": [],
   "source": []
  }
 ],
 "metadata": {
  "anaconda-cloud": {},
  "kernelspec": {
   "display_name": "Python [default]",
   "language": "python",
   "name": "python3"
  },
  "language_info": {
   "codemirror_mode": {
    "name": "ipython",
    "version": 3
   },
   "file_extension": ".py",
   "mimetype": "text/x-python",
   "name": "python",
   "nbconvert_exporter": "python",
   "pygments_lexer": "ipython3",
   "version": "3.5.2"
  }
 },
 "nbformat": 4,
 "nbformat_minor": 1
}
