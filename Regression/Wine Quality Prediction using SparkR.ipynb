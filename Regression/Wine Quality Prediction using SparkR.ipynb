{
 "cells": [
  {
   "cell_type": "code",
   "execution_count": 1,
   "metadata": {
    "collapsed": false
   },
   "outputs": [
    {
     "name": "stderr",
     "output_type": "stream",
     "text": []
    },
    {
     "name": "stdout",
     "output_type": "stream",
     "text": []
    },
    {
     "data": {
      "text/plain": [
       "Java ref type org.apache.spark.sql.SparkSession id 1 "
      ]
     },
     "metadata": {},
     "output_type": "display_data"
    }
   ],
   "source": [
    "# Starting a Spark Session in R\n",
    "library(SparkR, lib.loc = c(file.path(Sys.getenv(\"SPARK_HOME\"), \"R\", \"lib\")))\n",
    "sparkR.session()"
   ]
  },
  {
   "cell_type": "code",
   "execution_count": 2,
   "metadata": {
    "collapsed": false
   },
   "outputs": [],
   "source": [
    "data = read.df('winequality-red.csv',\n",
    "               source = 'csv',\n",
    "              sep = ';',\n",
    "              header = TRUE,\n",
    "              inferSchema = TRUE)"
   ]
  },
  {
   "cell_type": "code",
   "execution_count": 3,
   "metadata": {
    "collapsed": false
   },
   "outputs": [
    {
     "name": "stdout",
     "output_type": "stream",
     "text": [
      "root\n",
      " |-- fixed acidity: double (nullable = true)\n",
      " |-- volatile acidity: double (nullable = true)\n",
      " |-- citric acid: double (nullable = true)\n",
      " |-- residual sugar: double (nullable = true)\n",
      " |-- chlorides: double (nullable = true)\n",
      " |-- free sulfur dioxide: double (nullable = true)\n",
      " |-- total sulfur dioxide: double (nullable = true)\n",
      " |-- density: double (nullable = true)\n",
      " |-- pH: double (nullable = true)\n",
      " |-- sulphates: double (nullable = true)\n",
      " |-- alcohol: double (nullable = true)\n",
      " |-- quality: integer (nullable = true)\n"
     ]
    }
   ],
   "source": [
    "printSchema(data)"
   ]
  },
  {
   "cell_type": "code",
   "execution_count": 4,
   "metadata": {
    "collapsed": false
   },
   "outputs": [
    {
     "name": "stdout",
     "output_type": "stream",
     "text": [
      "+-------------+----------------+-----------+--------------+---------+-------------------+--------------------+-------+----+---------+-------+-------+\n",
      "|fixed acidity|volatile acidity|citric acid|residual sugar|chlorides|free sulfur dioxide|total sulfur dioxide|density|  pH|sulphates|alcohol|quality|\n",
      "+-------------+----------------+-----------+--------------+---------+-------------------+--------------------+-------+----+---------+-------+-------+\n",
      "|          7.4|             0.7|        0.0|           1.9|    0.076|               11.0|                34.0| 0.9978|3.51|     0.56|    9.4|      5|\n",
      "|          7.8|            0.88|        0.0|           2.6|    0.098|               25.0|                67.0| 0.9968| 3.2|     0.68|    9.8|      5|\n",
      "|          7.8|            0.76|       0.04|           2.3|    0.092|               15.0|                54.0|  0.997|3.26|     0.65|    9.8|      5|\n",
      "|         11.2|            0.28|       0.56|           1.9|    0.075|               17.0|                60.0|  0.998|3.16|     0.58|    9.8|      6|\n",
      "|          7.4|             0.7|        0.0|           1.9|    0.076|               11.0|                34.0| 0.9978|3.51|     0.56|    9.4|      5|\n",
      "|          7.4|            0.66|        0.0|           1.8|    0.075|               13.0|                40.0| 0.9978|3.51|     0.56|    9.4|      5|\n",
      "|          7.9|             0.6|       0.06|           1.6|    0.069|               15.0|                59.0| 0.9964| 3.3|     0.46|    9.4|      5|\n",
      "|          7.3|            0.65|        0.0|           1.2|    0.065|               15.0|                21.0| 0.9946|3.39|     0.47|   10.0|      7|\n",
      "|          7.8|            0.58|       0.02|           2.0|    0.073|                9.0|                18.0| 0.9968|3.36|     0.57|    9.5|      7|\n",
      "|          7.5|             0.5|       0.36|           6.1|    0.071|               17.0|               102.0| 0.9978|3.35|      0.8|   10.5|      5|\n",
      "|          6.7|            0.58|       0.08|           1.8|    0.097|               15.0|                65.0| 0.9959|3.28|     0.54|    9.2|      5|\n",
      "|          7.5|             0.5|       0.36|           6.1|    0.071|               17.0|               102.0| 0.9978|3.35|      0.8|   10.5|      5|\n",
      "|          5.6|           0.615|        0.0|           1.6|    0.089|               16.0|                59.0| 0.9943|3.58|     0.52|    9.9|      5|\n",
      "|          7.8|            0.61|       0.29|           1.6|    0.114|                9.0|                29.0| 0.9974|3.26|     1.56|    9.1|      5|\n",
      "|          8.9|            0.62|       0.18|           3.8|    0.176|               52.0|               145.0| 0.9986|3.16|     0.88|    9.2|      5|\n",
      "|          8.9|            0.62|       0.19|           3.9|     0.17|               51.0|               148.0| 0.9986|3.17|     0.93|    9.2|      5|\n",
      "|          8.5|            0.28|       0.56|           1.8|    0.092|               35.0|               103.0| 0.9969| 3.3|     0.75|   10.5|      7|\n",
      "|          8.1|            0.56|       0.28|           1.7|    0.368|               16.0|                56.0| 0.9968|3.11|     1.28|    9.3|      5|\n",
      "|          7.4|            0.59|       0.08|           4.4|    0.086|                6.0|                29.0| 0.9974|3.38|      0.5|    9.0|      4|\n",
      "|          7.9|            0.32|       0.51|           1.8|    0.341|               17.0|                56.0| 0.9969|3.04|     1.08|    9.2|      6|\n",
      "+-------------+----------------+-----------+--------------+---------+-------------------+--------------------+-------+----+---------+-------+-------+\n",
      "only showing top 20 rows\n"
     ]
    }
   ],
   "source": [
    "showDF(data)"
   ]
  },
  {
   "cell_type": "code",
   "execution_count": 5,
   "metadata": {
    "collapsed": false
   },
   "outputs": [
    {
     "name": "stdout",
     "output_type": "stream",
     "text": [
      "+-------+------------------+-------------------+-------------------+------------------+--------------------+-------------------+--------------------+--------------------+-------------------+------------------+------------------+------------------+\n",
      "|summary|     fixed acidity|   volatile acidity|        citric acid|    residual sugar|           chlorides|free sulfur dioxide|total sulfur dioxide|             density|                 pH|         sulphates|           alcohol|           quality|\n",
      "+-------+------------------+-------------------+-------------------+------------------+--------------------+-------------------+--------------------+--------------------+-------------------+------------------+------------------+------------------+\n",
      "|  count|              1599|               1599|               1599|              1599|                1599|               1599|                1599|                1599|               1599|              1599|              1599|              1599|\n",
      "|   mean| 8.319637273295838| 0.5278205128205131| 0.2709756097560964|2.5388055034396517| 0.08746654158849257| 15.874921826141339|   46.46779237023139|  0.9967466791744831|  3.311113195747343|0.6581488430268921|10.422983114446502|5.6360225140712945|\n",
      "| stddev|1.7410963181276948|0.17905970415353525|0.19480113740531824|  1.40992805950728|0.047065302010090085|  10.46015696980971|   32.89532447829907|0.001887333953842...|0.15438646490354271|0.1695069795901101|1.0656675818473935|0.8075694397347051|\n",
      "|    min|               4.6|               0.12|                0.0|               0.9|               0.012|                1.0|                 6.0|             0.99007|               2.74|              0.33|               8.4|                 3|\n",
      "|    max|              15.9|               1.58|                1.0|              15.5|               0.611|               72.0|               289.0|             1.00369|               4.01|               2.0|              14.9|                 8|\n",
      "+-------+------------------+-------------------+-------------------+------------------+--------------------+-------------------+--------------------+--------------------+-------------------+------------------+------------------+------------------+\n"
     ]
    }
   ],
   "source": [
    "showDF(describe(data))"
   ]
  },
  {
   "cell_type": "code",
   "execution_count": 6,
   "metadata": {
    "collapsed": true
   },
   "outputs": [],
   "source": [
    "# Splitting the dataset into the Training set and Test set\n",
    "train_test = randomSplit(data, c(8, 2), 2)\n",
    "train = train_test[[1]]\n",
    "test = train_test[[2]]"
   ]
  },
  {
   "cell_type": "code",
   "execution_count": 7,
   "metadata": {
    "collapsed": false
   },
   "outputs": [
    {
     "name": "stdout",
     "output_type": "stream",
     "text": [
      "+-------------+----------------+-----------+--------------+---------+-------------------+--------------------+-------+----+---------+----------------+-------+\n",
      "|fixed acidity|volatile acidity|citric acid|residual sugar|chlorides|free sulfur dioxide|total sulfur dioxide|density|  pH|sulphates|         alcohol|quality|\n",
      "+-------------+----------------+-----------+--------------+---------+-------------------+--------------------+-------+----+---------+----------------+-------+\n",
      "|          4.6|            0.52|       0.15|           2.1|    0.054|                8.0|                65.0| 0.9934| 3.9|     0.56|            13.1|      4|\n",
      "|          4.7|             0.6|       0.17|           2.3|    0.058|               17.0|               106.0| 0.9932|3.85|      0.6|            12.9|      6|\n",
      "|          4.9|            0.42|        0.0|           2.1|    0.048|               16.0|                42.0|0.99154|3.71|     0.74|            14.0|      7|\n",
      "|          5.0|            0.38|       0.01|           1.6|    0.048|               26.0|                60.0|0.99084| 3.7|     0.75|            14.0|      6|\n",
      "|          5.0|             0.4|        0.5|           4.3|    0.046|               29.0|                80.0| 0.9902|3.49|     0.66|            13.6|      6|\n",
      "|          5.0|            0.42|       0.24|           2.0|     0.06|               19.0|                50.0| 0.9917|3.72|     0.74|            14.0|      8|\n",
      "|          5.0|            1.02|       0.04|           1.4|    0.045|               41.0|                85.0| 0.9938|3.75|     0.48|            10.5|      4|\n",
      "|          5.0|            1.04|       0.24|           1.6|     0.05|               32.0|                96.0| 0.9934|3.74|     0.62|            11.5|      5|\n",
      "|          5.1|            0.42|        0.0|           1.8|    0.044|               18.0|                88.0|0.99157|3.68|     0.73|            13.6|      7|\n",
      "|          5.1|            0.47|       0.02|           1.3|    0.034|               18.0|                44.0| 0.9921| 3.9|     0.62|            12.8|      6|\n",
      "|          5.1|           0.585|        0.0|           1.7|    0.044|               14.0|                86.0|0.99264|3.56|     0.94|            12.9|      7|\n",
      "|          5.2|            0.32|       0.25|           1.8|    0.103|               13.0|                50.0| 0.9957|3.38|     0.55|             9.2|      5|\n",
      "|          5.2|            0.34|        0.0|           1.8|     0.05|               27.0|                63.0| 0.9916|3.68|     0.79|            14.0|      6|\n",
      "|          5.2|            0.34|        0.0|           1.8|     0.05|               27.0|                63.0| 0.9916|3.68|     0.79|            14.0|      6|\n",
      "|          5.2|            0.48|       0.04|           1.6|    0.054|               19.0|               106.0| 0.9927|3.54|     0.62|            12.2|      7|\n",
      "|          5.2|            0.49|       0.26|           2.3|     0.09|               23.0|                74.0| 0.9953|3.71|     0.62|            12.2|      6|\n",
      "|          5.2|           0.645|        0.0|          2.15|     0.08|               15.0|                28.0|0.99444|3.78|     0.61|            12.5|      6|\n",
      "|          5.3|            0.47|       0.11|           2.2|    0.048|               16.0|                89.0|0.99182|3.54|     0.88|13.5666666666667|      7|\n",
      "|          5.3|            0.57|       0.01|           1.7|    0.054|                5.0|                27.0| 0.9934|3.57|     0.84|            12.5|      7|\n",
      "|          5.3|           0.715|       0.19|           1.5|    0.161|                7.0|                62.0|0.99395|3.62|     0.61|            11.0|      5|\n",
      "+-------------+----------------+-----------+--------------+---------+-------------------+--------------------+-------+----+---------+----------------+-------+\n",
      "only showing top 20 rows\n"
     ]
    }
   ],
   "source": [
    "showDF(train)"
   ]
  },
  {
   "cell_type": "code",
   "execution_count": 8,
   "metadata": {
    "collapsed": true
   },
   "outputs": [],
   "source": [
    "# Creating Regression model\n",
    "\n",
    "# For Linear regression\n",
    "lr = spark.glm(data = train, formula = quality ~ ., family = 'gaussian')\n",
    "\n",
    "# For Random Forest Regressor\n",
    "rfr = spark.randomForest(data = train, formula = quality ~ ., type = 'regression', maxDepth = 10, numTrees = 300)"
   ]
  },
  {
   "cell_type": "markdown",
   "metadata": {},
   "source": [
    "### Evaluation and Prediction"
   ]
  },
  {
   "cell_type": "code",
   "execution_count": 9,
   "metadata": {
    "collapsed": false
   },
   "outputs": [
    {
     "data": {
      "text/plain": [
       "\n",
       "Deviance Residuals: \n",
       "(Note: These are approximate quantiles with relative error <= 0.01)\n",
       "     Min        1Q    Median        3Q       Max  \n",
       "-2.68077  -0.36570  -0.04897   0.42443   2.06857  \n",
       "\n",
       "Coefficients:\n",
       "                         Estimate  Std. Error   t value    Pr(>|t|)\n",
       "(Intercept)            26.1244602  2.3749e+01   1.10003  2.7153e-01\n",
       "fixed acidity           0.0349074  2.9434e-02   1.18595  2.3586e-01\n",
       "volatile acidity       -1.1328102  1.3748e-01  -8.23987  4.4409e-16\n",
       "citric acid            -0.2039941  1.6357e-01  -1.24714  2.1258e-01\n",
       "residual sugar          0.0209720  1.7111e-02   1.22568  2.2055e-01\n",
       "chlorides              -1.7391009  4.6624e-01  -3.73004  1.9986e-04\n",
       "free sulfur dioxide     0.0048271  2.4322e-03   1.98466  4.7396e-02\n",
       "total sulfur dioxide   -0.0034002  8.3399e-04  -4.07706  4.8431e-05\n",
       "density               -22.1148993  2.4257e+01  -0.91171  3.6209e-01\n",
       "pH                     -0.4402051  2.1582e-01  -2.03966  4.1590e-02\n",
       "sulphates               0.8441003  1.2549e-01   6.72620  2.6224e-11\n",
       "alcohol                 0.2865553  2.9613e-02   9.67668  0.0000e+00\n",
       "\n",
       "(Dispersion parameter for gaussian family taken to be 0.4252297)\n",
       "\n",
       "    Null deviance: 857.98  on 1286  degrees of freedom\n",
       "Residual deviance: 542.17  on 1275  degrees of freedom\n",
       "AIC: 2566\n",
       "\n",
       "Number of Fisher Scoring iterations: 1\n"
      ]
     },
     "metadata": {},
     "output_type": "display_data"
    }
   ],
   "source": [
    "summary(lr)"
   ]
  },
  {
   "cell_type": "code",
   "execution_count": 10,
   "metadata": {
    "collapsed": false
   },
   "outputs": [
    {
     "name": "stdout",
     "output_type": "stream",
     "text": [
      "+-------+------------------+\n",
      "|quality|        prediction|\n",
      "+-------+------------------+\n",
      "|      6| 5.699336900738054|\n",
      "|      7|6.3538428814908094|\n",
      "|      7| 6.639521439551206|\n",
      "|      7| 5.966791188545535|\n",
      "|      6| 5.648913204710599|\n",
      "|      5| 6.197362471578224|\n",
      "|      6| 6.069412116112822|\n",
      "|      4|4.4169985026205225|\n",
      "|      6| 6.333236267202281|\n",
      "|      6| 5.825963129537879|\n",
      "|      6| 6.214705079423943|\n",
      "|      5| 5.311939625018791|\n",
      "|      6| 6.032900208012123|\n",
      "|      7| 5.735436362672072|\n",
      "|      6| 6.084478118304229|\n",
      "|      7| 6.152492547424231|\n",
      "|      6| 5.900679936745661|\n",
      "|      6| 5.846438530824212|\n",
      "|      6|  5.91915943596554|\n",
      "|      4| 5.189911375022479|\n",
      "+-------+------------------+\n",
      "only showing top 20 rows\n"
     ]
    }
   ],
   "source": [
    "# Predicting Linear Regression Model\n",
    "result_lr = predict(lr, test)\n",
    "showDF(select(result_lr, c('quality', 'prediction')))"
   ]
  },
  {
   "cell_type": "code",
   "execution_count": 11,
   "metadata": {
    "collapsed": false
   },
   "outputs": [
    {
     "name": "stdout",
     "output_type": "stream",
     "text": [
      "+-------+------------------+\n",
      "|quality|        prediction|\n",
      "+-------+------------------+\n",
      "|      6| 5.896950878790396|\n",
      "|      7|6.9011025071995755|\n",
      "|      7| 6.982973787288246|\n",
      "|      7| 7.147514467014466|\n",
      "|      6| 5.504643711272518|\n",
      "|      5|  5.63091650486391|\n",
      "|      6| 5.591916771249731|\n",
      "|      4| 4.325797019334792|\n",
      "|      6|  6.37770539803229|\n",
      "|      6|6.0045228230422225|\n",
      "|      6| 5.981974523545433|\n",
      "|      5|   5.0100671101453|\n",
      "|      6|  6.39300638532546|\n",
      "|      7| 5.835242189712889|\n",
      "|      6| 6.154240868520335|\n",
      "|      7| 6.334249663640181|\n",
      "|      6| 5.760700024459329|\n",
      "|      6| 5.830401585147474|\n",
      "|      6| 5.944411245669022|\n",
      "|      4| 5.224281681461895|\n",
      "+-------+------------------+\n",
      "only showing top 20 rows\n"
     ]
    }
   ],
   "source": [
    "# Predicting Linear Regression Model\n",
    "result_rfr = predict(rfr, test)\n",
    "showDF(select(result_rfr, c('quality', 'prediction')))"
   ]
  },
  {
   "cell_type": "code",
   "execution_count": null,
   "metadata": {
    "collapsed": true
   },
   "outputs": [],
   "source": []
  }
 ],
 "metadata": {
  "anaconda-cloud": {},
  "kernelspec": {
   "display_name": "R",
   "language": "R",
   "name": "ir"
  },
  "language_info": {
   "codemirror_mode": "r",
   "file_extension": ".r",
   "mimetype": "text/x-r-source",
   "name": "R",
   "pygments_lexer": "r",
   "version": "3.3.2"
  }
 },
 "nbformat": 4,
 "nbformat_minor": 1
}
